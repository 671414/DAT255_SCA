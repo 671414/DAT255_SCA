{
 "cells": [
  {
   "cell_type": "code",
   "metadata": {
    "id": "7xvhfjnu2c4k",
    "ExecuteTime": {
     "end_time": "2025-04-03T17:49:31.206683Z",
     "start_time": "2025-04-03T17:49:30.997533Z"
    }
   },
   "source": [
    "%load_ext autoreload\n",
    "%autoreload 2"
   ],
   "outputs": [],
   "execution_count": 1
  },
  {
   "cell_type": "code",
   "metadata": {
    "id": "lfx16Uu02c4l",
    "outputId": "c232f537-1fda-4805-e671-188f22e94a53",
    "colab": {
     "base_uri": "https://localhost:8080/"
    },
    "ExecuteTime": {
     "end_time": "2025-04-03T17:49:41.341636Z",
     "start_time": "2025-04-03T17:49:31.852450Z"
    }
   },
   "source": [
    "import json\n",
    "import numpy as np\n",
    "from tqdm.auto import tqdm\n",
    "from collections import defaultdict\n",
    "from tensorflow.keras import metrics\n",
    "from tabulate import tabulate\n",
    "import matplotlib.pyplot as plt\n",
    "!pip install scaaml\n",
    "from scaaml.aes import ap_preds_to_key_preds\n",
    "from scaaml.plot import plot_trace, plot_confusion_matrix\n",
    "#from scaaml.utils import tf_cap_memory, from_categorical\n",
    "#from scaaml.model import get_models_by_attack_point, get_models_list, load_model_from_disk\n",
    "from scaaml.intro.generator import list_shards, load_attack_shard\n",
    "# scaaml.utils import hex_display, bytelist_to_hex"
   ],
   "outputs": [
    {
     "name": "stdout",
     "output_type": "stream",
     "text": [
      "Requirement already satisfied: scaaml in c:\\users\\kaspar\\anaconda3\\envs\\scaaml310\\lib\\site-packages (3.0.3)\n",
      "Requirement already satisfied: Pillow in c:\\users\\kaspar\\anaconda3\\envs\\scaaml310\\lib\\site-packages (from scaaml) (11.1.0)\n",
      "Requirement already satisfied: chipwhisperer in c:\\users\\kaspar\\anaconda3\\envs\\scaaml310\\lib\\site-packages (from scaaml) (6.0.0)\n",
      "Requirement already satisfied: colorama in c:\\users\\kaspar\\anaconda3\\envs\\scaaml310\\lib\\site-packages (from scaaml) (0.4.6)\n",
      "Requirement already satisfied: cryptography in c:\\users\\kaspar\\anaconda3\\envs\\scaaml310\\lib\\site-packages (from scaaml) (41.0.3)\n",
      "Requirement already satisfied: matplotlib in c:\\users\\kaspar\\anaconda3\\envs\\scaaml310\\lib\\site-packages (from scaaml) (3.10.0)\n",
      "Requirement already satisfied: networkx[default] in c:\\users\\kaspar\\anaconda3\\envs\\scaaml310\\lib\\site-packages (from scaaml) (3.4.2)\n",
      "Requirement already satisfied: numpy in c:\\users\\kaspar\\anaconda3\\envs\\scaaml310\\lib\\site-packages (from scaaml) (1.26.4)\n",
      "Requirement already satisfied: pandas in c:\\users\\kaspar\\anaconda3\\envs\\scaaml310\\lib\\site-packages (from scaaml) (2.2.3)\n",
      "Requirement already satisfied: pip in c:\\users\\kaspar\\anaconda3\\envs\\scaaml310\\lib\\site-packages (from scaaml) (25.0)\n",
      "Requirement already satisfied: pygments in c:\\users\\kaspar\\anaconda3\\envs\\scaaml310\\lib\\site-packages (from scaaml) (2.15.1)\n",
      "Requirement already satisfied: pytest in c:\\users\\kaspar\\anaconda3\\envs\\scaaml310\\lib\\site-packages (from scaaml) (8.3.5)\n",
      "Requirement already satisfied: pyvisa in c:\\users\\kaspar\\anaconda3\\envs\\scaaml310\\lib\\site-packages (from scaaml) (1.14.1)\n",
      "Requirement already satisfied: pyvisa-py in c:\\users\\kaspar\\anaconda3\\envs\\scaaml310\\lib\\site-packages (from scaaml) (0.7.2)\n",
      "Requirement already satisfied: scipy in c:\\users\\kaspar\\anaconda3\\envs\\scaaml310\\lib\\site-packages (from scaaml) (1.15.1)\n",
      "Requirement already satisfied: semver in c:\\users\\kaspar\\anaconda3\\envs\\scaaml310\\lib\\site-packages (from scaaml) (3.0.4)\n",
      "Requirement already satisfied: setuptools in c:\\users\\kaspar\\anaconda3\\envs\\scaaml310\\lib\\site-packages (from scaaml) (75.8.0)\n",
      "Requirement already satisfied: tabulate in c:\\users\\kaspar\\anaconda3\\envs\\scaaml310\\lib\\site-packages (from scaaml) (0.9.0)\n",
      "Requirement already satisfied: tensorflow in c:\\users\\kaspar\\appdata\\roaming\\python\\python310\\site-packages (from scaaml) (2.19.0)\n",
      "Requirement already satisfied: termcolor in c:\\users\\kaspar\\anaconda3\\envs\\scaaml310\\lib\\site-packages (from scaaml) (2.1.0)\n",
      "Requirement already satisfied: tqdm in c:\\users\\kaspar\\anaconda3\\envs\\scaaml310\\lib\\site-packages (from scaaml) (4.67.1)\n",
      "Requirement already satisfied: wheel in c:\\users\\kaspar\\anaconda3\\envs\\scaaml310\\lib\\site-packages (from scaaml) (0.45.1)\n",
      "Requirement already satisfied: configobj in c:\\users\\kaspar\\anaconda3\\envs\\scaaml310\\lib\\site-packages (from chipwhisperer->scaaml) (5.0.9)\n",
      "Requirement already satisfied: pyserial in c:\\users\\kaspar\\anaconda3\\envs\\scaaml310\\lib\\site-packages (from chipwhisperer->scaaml) (3.5)\n",
      "Requirement already satisfied: libusb1 in c:\\users\\kaspar\\anaconda3\\envs\\scaaml310\\lib\\site-packages (from chipwhisperer->scaaml) (3.3.1)\n",
      "Requirement already satisfied: ECpy in c:\\users\\kaspar\\anaconda3\\envs\\scaaml310\\lib\\site-packages (from chipwhisperer->scaaml) (1.2.5)\n",
      "Requirement already satisfied: fastdtw in c:\\users\\kaspar\\anaconda3\\envs\\scaaml310\\lib\\site-packages (from chipwhisperer->scaaml) (0.3.4)\n",
      "Requirement already satisfied: Cython in c:\\users\\kaspar\\anaconda3\\envs\\scaaml310\\lib\\site-packages (from chipwhisperer->scaaml) (3.0.12)\n",
      "Requirement already satisfied: cffi>=1.12 in c:\\users\\kaspar\\anaconda3\\envs\\scaaml310\\lib\\site-packages (from cryptography->scaaml) (1.17.1)\n",
      "Requirement already satisfied: contourpy>=1.0.1 in c:\\users\\kaspar\\anaconda3\\envs\\scaaml310\\lib\\site-packages (from matplotlib->scaaml) (1.3.1)\n",
      "Requirement already satisfied: cycler>=0.10 in c:\\users\\kaspar\\anaconda3\\envs\\scaaml310\\lib\\site-packages (from matplotlib->scaaml) (0.11.0)\n",
      "Requirement already satisfied: fonttools>=4.22.0 in c:\\users\\kaspar\\anaconda3\\envs\\scaaml310\\lib\\site-packages (from matplotlib->scaaml) (4.55.3)\n",
      "Requirement already satisfied: kiwisolver>=1.3.1 in c:\\users\\kaspar\\anaconda3\\envs\\scaaml310\\lib\\site-packages (from matplotlib->scaaml) (1.4.8)\n",
      "Requirement already satisfied: packaging>=20.0 in c:\\users\\kaspar\\anaconda3\\envs\\scaaml310\\lib\\site-packages (from matplotlib->scaaml) (24.2)\n",
      "Requirement already satisfied: pyparsing>=2.3.1 in c:\\users\\kaspar\\anaconda3\\envs\\scaaml310\\lib\\site-packages (from matplotlib->scaaml) (3.2.0)\n",
      "Requirement already satisfied: python-dateutil>=2.7 in c:\\users\\kaspar\\anaconda3\\envs\\scaaml310\\lib\\site-packages (from matplotlib->scaaml) (2.9.0.post0)\n",
      "Requirement already satisfied: pytz>=2020.1 in c:\\users\\kaspar\\anaconda3\\envs\\scaaml310\\lib\\site-packages (from pandas->scaaml) (2025.2)\n",
      "Requirement already satisfied: tzdata>=2022.7 in c:\\users\\kaspar\\anaconda3\\envs\\scaaml310\\lib\\site-packages (from pandas->scaaml) (2025.2)\n",
      "Requirement already satisfied: exceptiongroup>=1.0.0rc8 in c:\\users\\kaspar\\anaconda3\\envs\\scaaml310\\lib\\site-packages (from pytest->scaaml) (1.2.0)\n",
      "Requirement already satisfied: iniconfig in c:\\users\\kaspar\\anaconda3\\envs\\scaaml310\\lib\\site-packages (from pytest->scaaml) (2.1.0)\n",
      "Requirement already satisfied: pluggy<2,>=1.5 in c:\\users\\kaspar\\anaconda3\\envs\\scaaml310\\lib\\site-packages (from pytest->scaaml) (1.5.0)\n",
      "Requirement already satisfied: tomli>=1 in c:\\users\\kaspar\\anaconda3\\envs\\scaaml310\\lib\\site-packages (from pytest->scaaml) (2.0.1)\n",
      "Requirement already satisfied: typing-extensions in c:\\users\\kaspar\\anaconda3\\envs\\scaaml310\\lib\\site-packages (from pyvisa->scaaml) (4.12.2)\n",
      "Requirement already satisfied: absl-py>=1.0.0 in c:\\users\\kaspar\\appdata\\roaming\\python\\python310\\site-packages (from tensorflow->scaaml) (2.2.0)\n",
      "Requirement already satisfied: astunparse>=1.6.0 in c:\\users\\kaspar\\appdata\\roaming\\python\\python310\\site-packages (from tensorflow->scaaml) (1.6.3)\n",
      "Requirement already satisfied: flatbuffers>=24.3.25 in c:\\users\\kaspar\\anaconda3\\envs\\scaaml310\\lib\\site-packages (from tensorflow->scaaml) (24.3.25)\n",
      "Requirement already satisfied: gast!=0.5.0,!=0.5.1,!=0.5.2,>=0.2.1 in c:\\users\\kaspar\\appdata\\roaming\\python\\python310\\site-packages (from tensorflow->scaaml) (0.6.0)\n",
      "Requirement already satisfied: google-pasta>=0.1.1 in c:\\users\\kaspar\\appdata\\roaming\\python\\python310\\site-packages (from tensorflow->scaaml) (0.2.0)\n",
      "Requirement already satisfied: libclang>=13.0.0 in c:\\users\\kaspar\\anaconda3\\envs\\scaaml310\\lib\\site-packages (from tensorflow->scaaml) (18.1.1)\n",
      "Requirement already satisfied: opt-einsum>=2.3.2 in c:\\users\\kaspar\\anaconda3\\envs\\scaaml310\\lib\\site-packages (from tensorflow->scaaml) (3.3.0)\n",
      "Requirement already satisfied: protobuf!=4.21.0,!=4.21.1,!=4.21.2,!=4.21.3,!=4.21.4,!=4.21.5,<6.0.0dev,>=3.20.3 in c:\\users\\kaspar\\anaconda3\\envs\\scaaml310\\lib\\site-packages (from tensorflow->scaaml) (3.20.3)\n",
      "Requirement already satisfied: requests<3,>=2.21.0 in c:\\users\\kaspar\\anaconda3\\envs\\scaaml310\\lib\\site-packages (from tensorflow->scaaml) (2.32.3)\n",
      "Requirement already satisfied: six>=1.12.0 in c:\\users\\kaspar\\anaconda3\\envs\\scaaml310\\lib\\site-packages (from tensorflow->scaaml) (1.16.0)\n",
      "Requirement already satisfied: wrapt>=1.11.0 in c:\\users\\kaspar\\anaconda3\\envs\\scaaml310\\lib\\site-packages (from tensorflow->scaaml) (1.17.0)\n",
      "Requirement already satisfied: grpcio<2.0,>=1.24.3 in c:\\users\\kaspar\\appdata\\roaming\\python\\python310\\site-packages (from tensorflow->scaaml) (1.71.0)\n",
      "Requirement already satisfied: tensorboard~=2.19.0 in c:\\users\\kaspar\\appdata\\roaming\\python\\python310\\site-packages (from tensorflow->scaaml) (2.19.0)\n",
      "Requirement already satisfied: keras>=3.5.0 in c:\\users\\kaspar\\appdata\\roaming\\python\\python310\\site-packages (from tensorflow->scaaml) (3.9.0)\n",
      "Requirement already satisfied: h5py>=3.11.0 in c:\\users\\kaspar\\anaconda3\\envs\\scaaml310\\lib\\site-packages (from tensorflow->scaaml) (3.12.1)\n",
      "Requirement already satisfied: ml-dtypes<1.0.0,>=0.5.1 in c:\\users\\kaspar\\appdata\\roaming\\python\\python310\\site-packages (from tensorflow->scaaml) (0.5.1)\n",
      "Requirement already satisfied: tensorflow-io-gcs-filesystem>=0.23.1 in c:\\users\\kaspar\\anaconda3\\envs\\scaaml310\\lib\\site-packages (from tensorflow->scaaml) (0.31.0)\n",
      "Requirement already satisfied: pycparser in c:\\users\\kaspar\\anaconda3\\envs\\scaaml310\\lib\\site-packages (from cffi>=1.12->cryptography->scaaml) (2.21)\n",
      "Requirement already satisfied: rich in c:\\users\\kaspar\\appdata\\roaming\\python\\python310\\site-packages (from keras>=3.5.0->tensorflow->scaaml) (13.9.4)\n",
      "Requirement already satisfied: namex in c:\\users\\kaspar\\anaconda3\\envs\\scaaml310\\lib\\site-packages (from keras>=3.5.0->tensorflow->scaaml) (0.0.8)\n",
      "Requirement already satisfied: optree in c:\\users\\kaspar\\appdata\\roaming\\python\\python310\\site-packages (from keras>=3.5.0->tensorflow->scaaml) (0.14.1)\n",
      "Requirement already satisfied: charset-normalizer<4,>=2 in c:\\users\\kaspar\\anaconda3\\envs\\scaaml310\\lib\\site-packages (from requests<3,>=2.21.0->tensorflow->scaaml) (3.3.2)\n",
      "Requirement already satisfied: idna<4,>=2.5 in c:\\users\\kaspar\\anaconda3\\envs\\scaaml310\\lib\\site-packages (from requests<3,>=2.21.0->tensorflow->scaaml) (3.7)\n",
      "Requirement already satisfied: urllib3<3,>=1.21.1 in c:\\users\\kaspar\\anaconda3\\envs\\scaaml310\\lib\\site-packages (from requests<3,>=2.21.0->tensorflow->scaaml) (2.3.0)\n",
      "Requirement already satisfied: certifi>=2017.4.17 in c:\\users\\kaspar\\anaconda3\\envs\\scaaml310\\lib\\site-packages (from requests<3,>=2.21.0->tensorflow->scaaml) (2025.1.31)\n",
      "Requirement already satisfied: markdown>=2.6.8 in c:\\users\\kaspar\\anaconda3\\envs\\scaaml310\\lib\\site-packages (from tensorboard~=2.19.0->tensorflow->scaaml) (3.4.1)\n",
      "Requirement already satisfied: tensorboard-data-server<0.8.0,>=0.7.0 in c:\\users\\kaspar\\anaconda3\\envs\\scaaml310\\lib\\site-packages (from tensorboard~=2.19.0->tensorflow->scaaml) (0.7.2)\n",
      "Requirement already satisfied: werkzeug>=1.0.1 in c:\\users\\kaspar\\anaconda3\\envs\\scaaml310\\lib\\site-packages (from tensorboard~=2.19.0->tensorflow->scaaml) (3.1.3)\n",
      "Requirement already satisfied: MarkupSafe>=2.1.1 in c:\\users\\kaspar\\anaconda3\\envs\\scaaml310\\lib\\site-packages (from werkzeug>=1.0.1->tensorboard~=2.19.0->tensorflow->scaaml) (3.0.2)\n",
      "Requirement already satisfied: markdown-it-py>=2.2.0 in c:\\users\\kaspar\\appdata\\roaming\\python\\python310\\site-packages (from rich->keras>=3.5.0->tensorflow->scaaml) (3.0.0)\n",
      "Requirement already satisfied: mdurl~=0.1 in c:\\users\\kaspar\\appdata\\roaming\\python\\python310\\site-packages (from markdown-it-py>=2.2.0->rich->keras>=3.5.0->tensorflow->scaaml) (0.1.2)\n"
     ]
    }
   ],
   "execution_count": 2
  },
  {
   "cell_type": "markdown",
   "metadata": {
    "id": "BsfvwkMh2c4m"
   },
   "source": [
    "# Environment setup"
   ]
  },
  {
   "metadata": {
    "ExecuteTime": {
     "end_time": "2025-04-03T17:54:43.150132Z",
     "start_time": "2025-04-03T17:54:42.534934Z"
    }
   },
   "cell_type": "code",
   "source": [
    "from typing import Sequence, List\n",
    "import numpy.typing as npt\n",
    "\n",
    "def pretty_hex(e: int) -> str:\n",
    "    \"\"\"Representation of an integer as a zero-padded two-digit hex string.\"\"\"\n",
    "    return f\"{e:02X}\"\n",
    "\n",
    "\n",
    "def hex_line(chars: Sequence[int], spacer: str = \" \") -> str:\n",
    "    \"\"\"Render some chars as hex with a spacer between them\"\"\"\n",
    "    h = []\n",
    "    for e in chars:\n",
    "        h.append(pretty_hex(e))\n",
    "    return spacer.join(h)\n",
    "\n",
    "\n",
    "def hex_display(lst: Sequence[int],\n",
    "                prefix: str = \"\",\n",
    "                color: str = \"green\") -> None:\n",
    "    \"\"\"Display a list of int as colored hex.\"\"\"\n",
    "    h = []\n",
    "    for e in lst:\n",
    "        h.append(pretty_hex(e))\n",
    "    hex_representation = prefix + \" \".join(h)\n",
    "    # Assuming you print with some styled color effect\n",
    "    print(f\"{color}: {hex_representation}\")  # Example use of the 'color' parameter\n",
    "def from_categorical(predictions: Sequence[npt.ArrayLike]) -> List[np.intp]:\n",
    "    \"reverse of categorical\"\n",
    "    # note: doing it as a list is significantly faster than a single argmax\n",
    "    return [np.argmax(p) for p in predictions]\n",
    "\n",
    "def bytelist_to_hex(lst: Sequence[int], spacer: str = \" \") -> str:\n",
    "    h = []\n",
    "\n",
    "    for e in lst:\n",
    "        h.append(pretty_hex(e))\n",
    "    return spacer.join(h)"
   ],
   "outputs": [],
   "execution_count": 23
  },
  {
   "cell_type": "code",
   "source": [
    "config = \"\"\"{\n",
    "    \"model\": \"cnn\",\n",
    "    \"device\": \"stm32f415\",\n",
    "    \"algorithm\": \"tinyaes\",\n",
    "    \"version\": \"10\",\n",
    "    \"attack_points\": [\n",
    "        \"sub_bytes_out\",\n",
    "        \"sub_bytes_in\",\n",
    "        \"key\"\n",
    "    ],\n",
    "    \"attack_bytes\": [\n",
    "        \"0\",\n",
    "        \"1\",\n",
    "        \"2\",\n",
    "        \"3\",\n",
    "        \"4\",\n",
    "        \"5\",\n",
    "        \"6\",\n",
    "        \"7\",\n",
    "        \"8\",\n",
    "        \"9\",\n",
    "        \"10\",\n",
    "        \"11\",\n",
    "        \"12\",\n",
    "        \"13\",\n",
    "        \"14\",\n",
    "        \"15\"\n",
    "    ],\n",
    "    \"max_trace_len\": 20000,\n",
    "    \"num_shards\": 256,\n",
    "    \"num_traces_per_shard\": 256,\n",
    "    \"batch_size\": 32,\n",
    "    \"epochs\": 30,\n",
    "    \"optimizer_parameters\": {\n",
    "        \"lr\": 0.001,\n",
    "        \"multi_gpu_lr\": 0.001\n",
    "    },\n",
    "    \"model_parameters\": {\n",
    "        \"activation\": \"relu\",\n",
    "        \"initial_filters\": 8,\n",
    "        \"initial_pool_size\": 4,\n",
    "        \"block_kernel_size\": 3,\n",
    "        \"blocks_stack1\": 3,\n",
    "        \"blocks_stack2\": 4,\n",
    "        \"blocks_stack3\": 4,\n",
    "        \"blocks_stack4\": 3,\n",
    "        \"dense_dropout\": 0.1\n",
    "    }\n",
    "}\"\"\""
   ],
   "metadata": {
    "id": "Ym8hKbGR2zjP",
    "ExecuteTime": {
     "end_time": "2025-04-03T17:49:46.192401Z",
     "start_time": "2025-04-03T17:49:45.965800Z"
    }
   },
   "outputs": [],
   "execution_count": 6
  },
  {
   "cell_type": "code",
   "metadata": {
    "id": "2JIIZJPV2c4n",
    "ExecuteTime": {
     "end_time": "2025-04-03T17:50:01.635295Z",
     "start_time": "2025-04-03T17:50:01.414108Z"
    }
   },
   "source": [
    "import tensorflow as tf\n",
    "\n",
    "target = 'stm32f415_tinyaes'\n",
    "#tf_cap_memory()\n",
    "target_config = json.loads(config)\n",
    "BATCH_SIZE = target_config['batch_size']\n",
    "TRACE_LEN = target_config['max_trace_len']"
   ],
   "outputs": [],
   "execution_count": 8
  },
  {
   "cell_type": "markdown",
   "metadata": {
    "id": "TkGmP4jl2c4n"
   },
   "source": [
    "## Available models"
   ]
  },
  {
   "cell_type": "code",
   "source": [],
   "metadata": {
    "id": "hCohOrgn2__u"
   },
   "execution_count": null,
   "outputs": []
  },
  {
   "cell_type": "code",
   "source": [
    "from google.colab import drive\n",
    "drive.mount('/content/drive')"
   ],
   "metadata": {
    "id": "vN9TSqme3AYJ",
    "outputId": "d9d1271f-d3d4-4e7c-9f89-540cd3b17da6",
    "colab": {
     "base_uri": "https://localhost:8080/"
    }
   },
   "execution_count": 7,
   "outputs": [
    {
     "output_type": "stream",
     "name": "stdout",
     "text": [
      "Mounted at /content/drive\n"
     ]
    }
   ]
  },
  {
   "cell_type": "code",
   "source": [
    "#cding to the models\n",
    "%cd /content/drive/MyDrive/SCA-Datasets/scaaml_data_npz/"
   ],
   "metadata": {
    "id": "LS0BtQf93Imf",
    "outputId": "b0d772d9-7fe2-4ccc-94b2-402fc9669fff",
    "colab": {
     "base_uri": "https://localhost:8080/"
    }
   },
   "execution_count": 5,
   "outputs": [
    {
     "output_type": "stream",
     "name": "stdout",
     "text": [
      "/content/drive/MyDrive/SCA-Datasets/scaaml_data_npz\n"
     ]
    }
   ]
  },
  {
   "cell_type": "code",
   "metadata": {
    "id": "PzAtB9gT2c4n",
    "ExecuteTime": {
     "end_time": "2025-04-03T17:50:11.497662Z",
     "start_time": "2025-04-03T17:50:09.618288Z"
    }
   },
   "source": [
    "from tensorflow.keras.models import Model\n",
    "import tensorflow as tf\n",
    "\n",
    "model5000 = tf.keras.models.load_model(\"stm32f0-tinyaes-cnn-v10-ap_sub_bytes_in-byte_0-len_5000.keras\")\n",
    "#model20000 = tf.keras.models.load_model(\"stm32f0-tinyaes-cnn-v10-ap_sub_bytes_in-byte_0-len_20000.keras\")"
   ],
   "outputs": [],
   "execution_count": 9
  },
  {
   "cell_type": "markdown",
   "metadata": {
    "id": "thm9x1sK2c4o"
   },
   "source": [
    "## Dataset paths"
   ]
  },
  {
   "cell_type": "code",
   "source": [
    "#getting into where i have stored the scaaml datasets (need to be in test to find it)\n",
    "%cd /content/drive/MyDrive/SCA-Datasets/datasets/tinyaes/test\n"
   ],
   "metadata": {
    "id": "vrtXGKwf4Yc3",
    "outputId": "30a6a18a-406a-44a9-9b77-4781e72cadd6",
    "colab": {
     "base_uri": "https://localhost:8080/"
    }
   },
   "execution_count": 7,
   "outputs": [
    {
     "output_type": "stream",
     "name": "stdout",
     "text": [
      "/content/drive/MyDrive/SCA-Datasets/datasets/tinyaes/test\n"
     ]
    }
   ]
  },
  {
   "cell_type": "code",
   "source": [
    "DATASET_GLOB = \"\\\\Users\\\\Kaspar\\\\PycharmProjects\\\\scaaml\\\\scaaml_intro\\\\datasets/%s/test/*\" % target_config['algorithm']\n",
    "shard_paths  = list_shards(DATASET_GLOB, 256)"
   ],
   "metadata": {
    "id": "RHH5mvJ99Q6o",
    "ExecuteTime": {
     "end_time": "2025-04-03T17:50:19.624204Z",
     "start_time": "2025-04-03T17:50:19.408291Z"
    }
   },
   "outputs": [],
   "execution_count": 10
  },
  {
   "cell_type": "code",
   "metadata": {
    "scrolled": false,
    "id": "fFOYzfbP2c4o",
    "outputId": "a5cf2f7f-1543-45c1-ff53-33f08fa84033",
    "colab": {
     "base_uri": "https://localhost:8080/"
    },
    "ExecuteTime": {
     "end_time": "2025-03-28T21:00:24.037799Z",
     "start_time": "2025-03-28T21:00:23.839062Z"
    }
   },
   "source": "",
   "outputs": [
    {
     "name": "stdout",
     "output_type": "stream",
     "text": [
      "*.npz\n",
      "[]\n"
     ]
    }
   ],
   "execution_count": 27
  },
  {
   "cell_type": "markdown",
   "metadata": {
    "id": "Qd4H0JPZ2c4o"
   },
   "source": [
    "# Single byte recovery\n",
    "\n",
    "Let's start by recovering one of the 16 bytes to get a sense of how well the attack work.\n",
    "\n",
    "**Note**: looking at model accuracy is not enough as we need to invert the attack point AND combine the traces scores. See [presentation](https://elie.net/scaaml) for more information"
   ]
  },
  {
   "metadata": {},
   "cell_type": "markdown",
   "source": "KJØR DENNE HVER GANG; ATTACK BYTE BLIR BYTTET ETTER DEN SISTE CELLLEN KJØRER\n"
  },
  {
   "cell_type": "code",
   "metadata": {
    "id": "WPvCj0ez2c4o",
    "ExecuteTime": {
     "end_time": "2025-04-03T17:50:23.526686Z",
     "start_time": "2025-04-03T17:50:23.298976Z"
    }
   },
   "source": [
    "# let's select an attack point that have all the needed models -- Key is not a good target: it doesn't work\n",
    "ATTACK_POINT = 'sub_bytes_in'\n",
    "\n",
    "# let's also pick the key byte we want to use SCAAML to recover and load the related model\n",
    "ATTACK_BYTE = 0\n",
    "\n",
    "# load model\n",
    "#model = load_model_from_disk(available_models[ATTACK_POINT][ATTACK_BYTE])"
   ],
   "outputs": [],
   "execution_count": 11
  },
  {
   "cell_type": "markdown",
   "metadata": {
    "id": "r6QbHlNO2c4o"
   },
   "source": [
    "Using our model to predicting bytes attack point value, recovering byte key and combining prediction for the 256 test keys we have in our dataset"
   ]
  },
  {
   "cell_type": "code",
   "metadata": {
    "scrolled": true,
    "id": "--hxj-ou2c4p",
    "outputId": "a784cb7c-5be8-4bc2-aa40-d79ca802fbf9",
    "colab": {
     "base_uri": "https://localhost:8080/",
     "height": 1000,
     "referenced_widgets": [
      "5ade49aa535648b78920a73fe66b6077",
      "c1400f51d5174e3a94d4604178f68abd",
      "79e00d59812f410c9cea1c2424c08bfb",
      "8ae116eaf2f24dcda0c0c54448116e18",
      "25008f1cbb0d4548b64a0d379ef2daaa",
      "043ed07b16904ab0ae9c9a1d06155e77",
      "183040e523d54a6e9793b63e91c50573",
      "133a963231d64d8aa8e738c9e6824c8e",
      "165574805266470e9445bd23741bc3f4",
      "9373e3d9b7e04dfa8107806a40eed8d1",
      "ec4fe1a1efcd4feb8f150317f889b636"
     ]
    },
    "ExecuteTime": {
     "end_time": "2025-04-03T17:59:17.906767Z",
     "start_time": "2025-04-03T17:59:10.519072Z"
    }
   },
   "source": [
    "NUM_TRACES = 40  # maximum number of traces to use to recover a given key byte. 10 is already overkill\n",
    "correct_prediction_rank = defaultdict(list)\n",
    "y_pred = []\n",
    "y_true = []\n",
    "model_metrics = {\"acc\": metrics.Accuracy()}\n",
    "for shard in tqdm(shard_paths, desc='Recovering bytes', unit='shards'):\n",
    "    keys, pts, x, y = load_attack_shard(shard, ATTACK_BYTE, ATTACK_POINT, TRACE_LEN, num_traces=NUM_TRACES)\n",
    "    x = x[:,:5000,:]\n",
    "    print(x.shape)\n",
    "    # prediction\n",
    "    predictions = model5000.predict(x)\n",
    "\n",
    "    # computing byte prediction from intermediate predictions\n",
    "    key_preds = ap_preds_to_key_preds(predictions, pts, ATTACK_POINT)\n",
    "\n",
    "    c_preds = from_categorical(predictions)\n",
    "    c_y = from_categorical(y)\n",
    "    # metric tracking\n",
    "    for metric in model_metrics.values():\n",
    "        metric.update_state(c_y, c_preds)\n",
    "    # for the confusion matrix\n",
    "    y_pred.extend(c_preds)\n",
    "    y_true.extend(c_y)\n",
    "\n",
    "    # accumulating probabilities and checking correct guess position.\n",
    "    # if all goes well it will be at position 0 (highest probability)\n",
    "    # see below on how to use for the real attack\n",
    "\n",
    "\n",
    "    key = keys[0] # all the same in the same shard - not used in real attack\n",
    "    vals = np.zeros((256))\n",
    "    for trace_count, kp in enumerate(key_preds):\n",
    "        vals = vals  + np.log10(kp + 1e-22)\n",
    "        guess_ranks = (np.argsort(vals, )[-256:][::-1])\n",
    "        byte_rank = list(guess_ranks).index(key)\n",
    "        correct_prediction_rank[trace_count].append(byte_rank)\n",
    "    #maxed out ram before i added this, not sure of the actual effect or if it was random\n",
    "    del keys, pts, x, y, predictions, key_preds, c_preds, c_y"
   ],
   "outputs": [
    {
     "data": {
      "text/plain": [
       "Recovering bytes:   0%|          | 0/256 [00:00<?, ?shards/s]"
      ],
      "application/vnd.jupyter.widget-view+json": {
       "version_major": 2,
       "version_minor": 0,
       "model_id": "92655eb3fbab4e9a83a0f980eccc77e1"
      }
     },
     "metadata": {},
     "output_type": "display_data"
    },
    {
     "name": "stdout",
     "output_type": "stream",
     "text": [
      "(40, 5000, 1)\n",
      "\u001B[1m2/2\u001B[0m \u001B[32m━━━━━━━━━━━━━━━━━━━━\u001B[0m\u001B[37m\u001B[0m \u001B[1m0s\u001B[0m 73ms/step\n",
      "(40, 5000, 1)\n",
      "\u001B[1m2/2\u001B[0m \u001B[32m━━━━━━━━━━━━━━━━━━━━\u001B[0m\u001B[37m\u001B[0m \u001B[1m0s\u001B[0m 74ms/step\n",
      "(40, 5000, 1)\n",
      "\u001B[1m2/2\u001B[0m \u001B[32m━━━━━━━━━━━━━━━━━━━━\u001B[0m\u001B[37m\u001B[0m \u001B[1m0s\u001B[0m 77ms/step\n",
      "(40, 5000, 1)\n",
      "\u001B[1m2/2\u001B[0m \u001B[32m━━━━━━━━━━━━━━━━━━━━\u001B[0m\u001B[37m\u001B[0m \u001B[1m0s\u001B[0m 73ms/step\n",
      "(40, 5000, 1)\n",
      "\u001B[1m2/2\u001B[0m \u001B[32m━━━━━━━━━━━━━━━━━━━━\u001B[0m\u001B[37m\u001B[0m \u001B[1m0s\u001B[0m 74ms/step\n",
      "(40, 5000, 1)\n",
      "\u001B[1m2/2\u001B[0m \u001B[32m━━━━━━━━━━━━━━━━━━━━\u001B[0m\u001B[37m\u001B[0m \u001B[1m0s\u001B[0m 79ms/step\n",
      "(40, 5000, 1)\n",
      "\u001B[1m2/2\u001B[0m \u001B[32m━━━━━━━━━━━━━━━━━━━━\u001B[0m\u001B[37m\u001B[0m \u001B[1m0s\u001B[0m 78ms/step\n",
      "(40, 5000, 1)\n",
      "\u001B[1m2/2\u001B[0m \u001B[32m━━━━━━━━━━━━━━━━━━━━\u001B[0m\u001B[37m\u001B[0m \u001B[1m0s\u001B[0m 80ms/step\n",
      "(40, 5000, 1)\n",
      "\u001B[1m2/2\u001B[0m \u001B[32m━━━━━━━━━━━━━━━━━━━━\u001B[0m\u001B[37m\u001B[0m \u001B[1m0s\u001B[0m 79ms/step\n",
      "(40, 5000, 1)\n",
      "\u001B[1m2/2\u001B[0m \u001B[32m━━━━━━━━━━━━━━━━━━━━\u001B[0m\u001B[37m\u001B[0m \u001B[1m0s\u001B[0m 80ms/step\n",
      "(40, 5000, 1)\n",
      "\u001B[1m2/2\u001B[0m \u001B[32m━━━━━━━━━━━━━━━━━━━━\u001B[0m\u001B[37m\u001B[0m \u001B[1m0s\u001B[0m 80ms/step\n",
      "(40, 5000, 1)\n",
      "\u001B[1m2/2\u001B[0m \u001B[32m━━━━━━━━━━━━━━━━━━━━\u001B[0m\u001B[37m\u001B[0m \u001B[1m0s\u001B[0m 79ms/step\n"
     ]
    },
    {
     "ename": "KeyboardInterrupt",
     "evalue": "",
     "output_type": "error",
     "traceback": [
      "\u001B[1;31m---------------------------------------------------------------------------\u001B[0m",
      "\u001B[1;31mKeyboardInterrupt\u001B[0m                         Traceback (most recent call last)",
      "Cell \u001B[1;32mIn[28], line 7\u001B[0m\n\u001B[0;32m      5\u001B[0m model_metrics \u001B[38;5;241m=\u001B[39m {\u001B[38;5;124m\"\u001B[39m\u001B[38;5;124macc\u001B[39m\u001B[38;5;124m\"\u001B[39m: metrics\u001B[38;5;241m.\u001B[39mAccuracy()}\n\u001B[0;32m      6\u001B[0m \u001B[38;5;28;01mfor\u001B[39;00m shard \u001B[38;5;129;01min\u001B[39;00m tqdm(shard_paths, desc\u001B[38;5;241m=\u001B[39m\u001B[38;5;124m'\u001B[39m\u001B[38;5;124mRecovering bytes\u001B[39m\u001B[38;5;124m'\u001B[39m, unit\u001B[38;5;241m=\u001B[39m\u001B[38;5;124m'\u001B[39m\u001B[38;5;124mshards\u001B[39m\u001B[38;5;124m'\u001B[39m):\n\u001B[1;32m----> 7\u001B[0m     keys, pts, x, y \u001B[38;5;241m=\u001B[39m \u001B[43mload_attack_shard\u001B[49m\u001B[43m(\u001B[49m\u001B[43mshard\u001B[49m\u001B[43m,\u001B[49m\u001B[43m \u001B[49m\u001B[43mATTACK_BYTE\u001B[49m\u001B[43m,\u001B[49m\u001B[43m \u001B[49m\u001B[43mATTACK_POINT\u001B[49m\u001B[43m,\u001B[49m\u001B[43m \u001B[49m\u001B[43mTRACE_LEN\u001B[49m\u001B[43m,\u001B[49m\u001B[43m \u001B[49m\u001B[43mnum_traces\u001B[49m\u001B[38;5;241;43m=\u001B[39;49m\u001B[43mNUM_TRACES\u001B[49m\u001B[43m)\u001B[49m\n\u001B[0;32m      8\u001B[0m     x \u001B[38;5;241m=\u001B[39m x[:,:\u001B[38;5;241m5000\u001B[39m,:]\n\u001B[0;32m      9\u001B[0m     \u001B[38;5;28mprint\u001B[39m(x\u001B[38;5;241m.\u001B[39mshape)\n",
      "File \u001B[1;32m~\\anaconda3\\envs\\scaaml310\\lib\\site-packages\\scaaml\\intro\\generator.py:137\u001B[0m, in \u001B[0;36mload_attack_shard\u001B[1;34m(***failed resolving arguments***)\u001B[0m\n\u001B[0;32m    134\u001B[0m y \u001B[38;5;241m=\u001B[39m tf\u001B[38;5;241m.\u001B[39mconvert_to_tensor(y, dtype\u001B[38;5;241m=\u001B[39m\u001B[38;5;124m\"\u001B[39m\u001B[38;5;124muint8\u001B[39m\u001B[38;5;124m\"\u001B[39m)\n\u001B[0;32m    136\u001B[0m \u001B[38;5;66;03m# load x\u001B[39;00m\n\u001B[1;32m--> 137\u001B[0m x \u001B[38;5;241m=\u001B[39m \u001B[43mshard\u001B[49m\u001B[43m[\u001B[49m\u001B[38;5;124;43m\"\u001B[39;49m\u001B[38;5;124;43mtraces\u001B[39;49m\u001B[38;5;124;43m\"\u001B[39;49m\u001B[43m]\u001B[49m[:num_traces, :max_trace_length, :]\n\u001B[0;32m    138\u001B[0m x \u001B[38;5;241m=\u001B[39m tf\u001B[38;5;241m.\u001B[39mconvert_to_tensor(x, dtype\u001B[38;5;241m=\u001B[39m\u001B[38;5;124m\"\u001B[39m\u001B[38;5;124mfloat32\u001B[39m\u001B[38;5;124m\"\u001B[39m)\n\u001B[0;32m    139\u001B[0m \u001B[38;5;28;01mreturn\u001B[39;00m k, pts, x, y\n",
      "File \u001B[1;32m~\\anaconda3\\envs\\scaaml310\\lib\\site-packages\\numpy\\lib\\npyio.py:256\u001B[0m, in \u001B[0;36mNpzFile.__getitem__\u001B[1;34m(self, key)\u001B[0m\n\u001B[0;32m    254\u001B[0m \u001B[38;5;28;01mif\u001B[39;00m magic \u001B[38;5;241m==\u001B[39m \u001B[38;5;28mformat\u001B[39m\u001B[38;5;241m.\u001B[39mMAGIC_PREFIX:\n\u001B[0;32m    255\u001B[0m     \u001B[38;5;28mbytes\u001B[39m \u001B[38;5;241m=\u001B[39m \u001B[38;5;28mself\u001B[39m\u001B[38;5;241m.\u001B[39mzip\u001B[38;5;241m.\u001B[39mopen(key)\n\u001B[1;32m--> 256\u001B[0m     \u001B[38;5;28;01mreturn\u001B[39;00m \u001B[38;5;28;43mformat\u001B[39;49m\u001B[38;5;241;43m.\u001B[39;49m\u001B[43mread_array\u001B[49m\u001B[43m(\u001B[49m\u001B[38;5;28;43mbytes\u001B[39;49m\u001B[43m,\u001B[49m\n\u001B[0;32m    257\u001B[0m \u001B[43m                             \u001B[49m\u001B[43mallow_pickle\u001B[49m\u001B[38;5;241;43m=\u001B[39;49m\u001B[38;5;28;43mself\u001B[39;49m\u001B[38;5;241;43m.\u001B[39;49m\u001B[43mallow_pickle\u001B[49m\u001B[43m,\u001B[49m\n\u001B[0;32m    258\u001B[0m \u001B[43m                             \u001B[49m\u001B[43mpickle_kwargs\u001B[49m\u001B[38;5;241;43m=\u001B[39;49m\u001B[38;5;28;43mself\u001B[39;49m\u001B[38;5;241;43m.\u001B[39;49m\u001B[43mpickle_kwargs\u001B[49m\u001B[43m,\u001B[49m\n\u001B[0;32m    259\u001B[0m \u001B[43m                             \u001B[49m\u001B[43mmax_header_size\u001B[49m\u001B[38;5;241;43m=\u001B[39;49m\u001B[38;5;28;43mself\u001B[39;49m\u001B[38;5;241;43m.\u001B[39;49m\u001B[43mmax_header_size\u001B[49m\u001B[43m)\u001B[49m\n\u001B[0;32m    260\u001B[0m \u001B[38;5;28;01melse\u001B[39;00m:\n\u001B[0;32m    261\u001B[0m     \u001B[38;5;28;01mreturn\u001B[39;00m \u001B[38;5;28mself\u001B[39m\u001B[38;5;241m.\u001B[39mzip\u001B[38;5;241m.\u001B[39mread(key)\n",
      "File \u001B[1;32m~\\anaconda3\\envs\\scaaml310\\lib\\site-packages\\numpy\\lib\\format.py:831\u001B[0m, in \u001B[0;36mread_array\u001B[1;34m(fp, allow_pickle, pickle_kwargs, max_header_size)\u001B[0m\n\u001B[0;32m    829\u001B[0m             read_count \u001B[38;5;241m=\u001B[39m \u001B[38;5;28mmin\u001B[39m(max_read_count, count \u001B[38;5;241m-\u001B[39m i)\n\u001B[0;32m    830\u001B[0m             read_size \u001B[38;5;241m=\u001B[39m \u001B[38;5;28mint\u001B[39m(read_count \u001B[38;5;241m*\u001B[39m dtype\u001B[38;5;241m.\u001B[39mitemsize)\n\u001B[1;32m--> 831\u001B[0m             data \u001B[38;5;241m=\u001B[39m \u001B[43m_read_bytes\u001B[49m\u001B[43m(\u001B[49m\u001B[43mfp\u001B[49m\u001B[43m,\u001B[49m\u001B[43m \u001B[49m\u001B[43mread_size\u001B[49m\u001B[43m,\u001B[49m\u001B[43m \u001B[49m\u001B[38;5;124;43m\"\u001B[39;49m\u001B[38;5;124;43marray data\u001B[39;49m\u001B[38;5;124;43m\"\u001B[39;49m\u001B[43m)\u001B[49m\n\u001B[0;32m    832\u001B[0m             array[i:i\u001B[38;5;241m+\u001B[39mread_count] \u001B[38;5;241m=\u001B[39m numpy\u001B[38;5;241m.\u001B[39mfrombuffer(data, dtype\u001B[38;5;241m=\u001B[39mdtype,\n\u001B[0;32m    833\u001B[0m                                                      count\u001B[38;5;241m=\u001B[39mread_count)\n\u001B[0;32m    835\u001B[0m \u001B[38;5;28;01mif\u001B[39;00m fortran_order:\n",
      "File \u001B[1;32m~\\anaconda3\\envs\\scaaml310\\lib\\site-packages\\numpy\\lib\\format.py:966\u001B[0m, in \u001B[0;36m_read_bytes\u001B[1;34m(fp, size, error_template)\u001B[0m\n\u001B[0;32m    961\u001B[0m \u001B[38;5;28;01mwhile\u001B[39;00m \u001B[38;5;28;01mTrue\u001B[39;00m:\n\u001B[0;32m    962\u001B[0m     \u001B[38;5;66;03m# io files (default in python3) return None or raise on\u001B[39;00m\n\u001B[0;32m    963\u001B[0m     \u001B[38;5;66;03m# would-block, python2 file will truncate, probably nothing can be\u001B[39;00m\n\u001B[0;32m    964\u001B[0m     \u001B[38;5;66;03m# done about that.  note that regular files can't be non-blocking\u001B[39;00m\n\u001B[0;32m    965\u001B[0m     \u001B[38;5;28;01mtry\u001B[39;00m:\n\u001B[1;32m--> 966\u001B[0m         r \u001B[38;5;241m=\u001B[39m \u001B[43mfp\u001B[49m\u001B[38;5;241;43m.\u001B[39;49m\u001B[43mread\u001B[49m\u001B[43m(\u001B[49m\u001B[43msize\u001B[49m\u001B[43m \u001B[49m\u001B[38;5;241;43m-\u001B[39;49m\u001B[43m \u001B[49m\u001B[38;5;28;43mlen\u001B[39;49m\u001B[43m(\u001B[49m\u001B[43mdata\u001B[49m\u001B[43m)\u001B[49m\u001B[43m)\u001B[49m\n\u001B[0;32m    967\u001B[0m         data \u001B[38;5;241m+\u001B[39m\u001B[38;5;241m=\u001B[39m r\n\u001B[0;32m    968\u001B[0m         \u001B[38;5;28;01mif\u001B[39;00m \u001B[38;5;28mlen\u001B[39m(r) \u001B[38;5;241m==\u001B[39m \u001B[38;5;241m0\u001B[39m \u001B[38;5;129;01mor\u001B[39;00m \u001B[38;5;28mlen\u001B[39m(data) \u001B[38;5;241m==\u001B[39m size:\n",
      "File \u001B[1;32m~\\anaconda3\\envs\\scaaml310\\lib\\zipfile.py:927\u001B[0m, in \u001B[0;36mZipExtFile.read\u001B[1;34m(self, n)\u001B[0m\n\u001B[0;32m    925\u001B[0m \u001B[38;5;28mself\u001B[39m\u001B[38;5;241m.\u001B[39m_offset \u001B[38;5;241m=\u001B[39m \u001B[38;5;241m0\u001B[39m\n\u001B[0;32m    926\u001B[0m \u001B[38;5;28;01mwhile\u001B[39;00m n \u001B[38;5;241m>\u001B[39m \u001B[38;5;241m0\u001B[39m \u001B[38;5;129;01mand\u001B[39;00m \u001B[38;5;129;01mnot\u001B[39;00m \u001B[38;5;28mself\u001B[39m\u001B[38;5;241m.\u001B[39m_eof:\n\u001B[1;32m--> 927\u001B[0m     data \u001B[38;5;241m=\u001B[39m \u001B[38;5;28;43mself\u001B[39;49m\u001B[38;5;241;43m.\u001B[39;49m\u001B[43m_read1\u001B[49m\u001B[43m(\u001B[49m\u001B[43mn\u001B[49m\u001B[43m)\u001B[49m\n\u001B[0;32m    928\u001B[0m     \u001B[38;5;28;01mif\u001B[39;00m n \u001B[38;5;241m<\u001B[39m \u001B[38;5;28mlen\u001B[39m(data):\n\u001B[0;32m    929\u001B[0m         \u001B[38;5;28mself\u001B[39m\u001B[38;5;241m.\u001B[39m_readbuffer \u001B[38;5;241m=\u001B[39m data\n",
      "File \u001B[1;32m~\\anaconda3\\envs\\scaaml310\\lib\\zipfile.py:1003\u001B[0m, in \u001B[0;36mZipExtFile._read1\u001B[1;34m(self, n)\u001B[0m\n\u001B[0;32m   1001\u001B[0m \u001B[38;5;28;01melif\u001B[39;00m \u001B[38;5;28mself\u001B[39m\u001B[38;5;241m.\u001B[39m_compress_type \u001B[38;5;241m==\u001B[39m ZIP_DEFLATED:\n\u001B[0;32m   1002\u001B[0m     n \u001B[38;5;241m=\u001B[39m \u001B[38;5;28mmax\u001B[39m(n, \u001B[38;5;28mself\u001B[39m\u001B[38;5;241m.\u001B[39mMIN_READ_SIZE)\n\u001B[1;32m-> 1003\u001B[0m     data \u001B[38;5;241m=\u001B[39m \u001B[38;5;28;43mself\u001B[39;49m\u001B[38;5;241;43m.\u001B[39;49m\u001B[43m_decompressor\u001B[49m\u001B[38;5;241;43m.\u001B[39;49m\u001B[43mdecompress\u001B[49m\u001B[43m(\u001B[49m\u001B[43mdata\u001B[49m\u001B[43m,\u001B[49m\u001B[43m \u001B[49m\u001B[43mn\u001B[49m\u001B[43m)\u001B[49m\n\u001B[0;32m   1004\u001B[0m     \u001B[38;5;28mself\u001B[39m\u001B[38;5;241m.\u001B[39m_eof \u001B[38;5;241m=\u001B[39m (\u001B[38;5;28mself\u001B[39m\u001B[38;5;241m.\u001B[39m_decompressor\u001B[38;5;241m.\u001B[39meof \u001B[38;5;129;01mor\u001B[39;00m\n\u001B[0;32m   1005\u001B[0m                  \u001B[38;5;28mself\u001B[39m\u001B[38;5;241m.\u001B[39m_compress_left \u001B[38;5;241m<\u001B[39m\u001B[38;5;241m=\u001B[39m \u001B[38;5;241m0\u001B[39m \u001B[38;5;129;01mand\u001B[39;00m\n\u001B[0;32m   1006\u001B[0m                  \u001B[38;5;129;01mnot\u001B[39;00m \u001B[38;5;28mself\u001B[39m\u001B[38;5;241m.\u001B[39m_decompressor\u001B[38;5;241m.\u001B[39munconsumed_tail)\n\u001B[0;32m   1007\u001B[0m     \u001B[38;5;28;01mif\u001B[39;00m \u001B[38;5;28mself\u001B[39m\u001B[38;5;241m.\u001B[39m_eof:\n",
      "\u001B[1;31mKeyboardInterrupt\u001B[0m: "
     ]
    }
   ],
   "execution_count": 28
  },
  {
   "cell_type": "markdown",
   "metadata": {
    "id": "AbKWTboC2c4p"
   },
   "source": [
    "## checking model accuracy & confusion matrix\n",
    "the model accuracy is very good given that the baseline is 1/256 > 0.04. However accuracy is not enough to assess of\n",
    "effective the attack is. Instead you need to look at how many traces it takes to recovers 100% of the sub_bytes as visible below.\n",
    "\n",
    "Looking at the confusion matrix shows that the model perform equaly well on all the predicted value and generalized well: we see a crisp diagonal with no obvious weak points"
   ]
  },
  {
   "cell_type": "code",
   "metadata": {
    "id": "aDRJHfUI2c4p",
    "outputId": "5d90bd49-638e-4ddc-d160-562e1ac0d34b",
    "colab": {
     "base_uri": "https://localhost:8080/"
    },
    "ExecuteTime": {
     "end_time": "2025-04-03T17:58:46.130037Z",
     "start_time": "2025-04-03T17:58:45.902935Z"
    }
   },
   "source": [
    "print(\"Accuracy: %.2f\" % model_metrics['acc'].result())"
   ],
   "outputs": [
    {
     "name": "stdout",
     "output_type": "stream",
     "text": [
      "Accuracy: 0.47\n"
     ]
    }
   ],
   "execution_count": 26
  },
  {
   "cell_type": "code",
   "metadata": {
    "scrolled": false,
    "id": "dOKpjVCi2c4p",
    "outputId": "9295c670-b391-413e-e48f-3faa525a7d16",
    "colab": {
     "base_uri": "https://localhost:8080/",
     "height": 626
    },
    "ExecuteTime": {
     "end_time": "2025-04-03T17:53:41.715192Z",
     "start_time": "2025-04-03T17:53:41.172162Z"
    }
   },
   "source": [
    "plot_confusion_matrix(y_true, y_pred, normalize=True, title=\"%s byte %s prediction confusion matrix\" % (ATTACK_POINT, ATTACK_BYTE))"
   ],
   "outputs": [
    {
     "data": {
      "text/plain": [
       "<Figure size 800x600 with 2 Axes>"
      ],
      "image/png": "[encoded data removed]"
     },
     "metadata": {},
     "output_type": "display_data"
    }
   ],
   "execution_count": 18
  },
  {
   "cell_type": "markdown",
   "metadata": {
    "id": "xwNFYdEf2c4p"
   },
   "source": [
    "## byte recovery efficiency\n"
   ]
  },
  {
   "cell_type": "code",
   "metadata": {
    "scrolled": false,
    "id": "Idl5WHBX2c4p",
    "outputId": "7c24d782-d285-4500-e1db-e5fa919f3911",
    "colab": {
     "base_uri": "https://localhost:8080/",
     "height": 472
    },
    "ExecuteTime": {
     "end_time": "2025-04-03T17:54:03.753106Z",
     "start_time": "2025-04-03T17:54:03.356867Z"
    }
   },
   "source": [
    "NUM_TRACES_TO_PLOT = 40\n",
    "avg_preds = np.array([correct_prediction_rank[i].count(0) for i in range(NUM_TRACES_TO_PLOT)])\n",
    "y = avg_preds / len(correct_prediction_rank[0]) * 100\n",
    "x = [i + 1 for i in range(NUM_TRACES_TO_PLOT)]\n",
    "plt.plot(x, y)\n",
    "plt.xlabel(\"Num traces\")\n",
    "plt.ylabel(\"Recovery success rate in %\")\n",
    "plt.title(\"%s ap:%s byte:%s recovery performance\" % (target_config['algorithm'], ATTACK_POINT, ATTACK_BYTE))\n",
    "plt.show()"
   ],
   "outputs": [
    {
     "data": {
      "text/plain": [
       "<Figure size 640x480 with 1 Axes>"
      ],
      "image/png": "[encoded data removed]"
     },
     "metadata": {},
     "output_type": "display_data"
    }
   ],
   "execution_count": 19
  },
  {
   "cell_type": "markdown",
   "metadata": {
    "id": "Gs3LHmFI2c4q"
   },
   "source": [
    "## metric computations\n",
    "\n",
    "Let's look at some of the various performances metrics that are used to evaluate attack efficency.\n",
    "- In the worst case for the implementation the attacker can recover ~40% of the key with a single trace.\n",
    "- The best case is not really better: 4 traces is all you need."
   ]
  },
  {
   "cell_type": "code",
   "metadata": {
    "id": "ZzY6da7_2c4q",
    "outputId": "63bd13d6-029f-4836-a6b6-fc35c0d91e94",
    "colab": {
     "base_uri": "https://localhost:8080/"
    },
    "ExecuteTime": {
     "end_time": "2025-04-03T17:54:08.144472Z",
     "start_time": "2025-04-03T17:54:07.902269Z"
    }
   },
   "source": [
    "min_traces = 0\n",
    "max_traces = 0\n",
    "cumulative_aa = 0\n",
    "for idx, val in enumerate(y):\n",
    "    cumulative_aa += val\n",
    "    if not min_traces and val > 0:\n",
    "        min_traces = idx + 1\n",
    "    if not max_traces and val == 100.0:\n",
    "        max_traces = idx + 1\n",
    "        break\n",
    "\n",
    "cumulative_aa = round( cumulative_aa / (idx + 1), 2) # divide by the number of steps\n",
    "\n",
    "rows = [\n",
    "    [\"min traces\", min_traces, round(y[min_traces -1 ], 1)],\n",
    "    [\"max traces\", max_traces, round(y[max_traces - 1], 1)],\n",
    "    [\"cumulative score\", cumulative_aa, '-']\n",
    "]\n",
    "print(tabulate(rows, headers=['metric', 'num traces', '% of keys']))"
   ],
   "outputs": [
    {
     "name": "stdout",
     "output_type": "stream",
     "text": [
      "metric              num traces  % of keys\n",
      "----------------  ------------  -----------\n",
      "min traces                1     48.0\n",
      "max traces                4     100.0\n",
      "cumulative score         85.16  -\n"
     ]
    }
   ],
   "execution_count": 20
  },
  {
   "cell_type": "markdown",
   "metadata": {
    "id": "566rBrxs2c4q"
   },
   "source": [
    "# recover the full keys"
   ]
  },
  {
   "cell_type": "code",
   "metadata": {
    "id": "v5iqnT552c4q",
    "ExecuteTime": {
     "end_time": "2025-04-03T17:54:12.199173Z",
     "start_time": "2025-04-03T17:54:11.971501Z"
    }
   },
   "source": [
    "ATTACK_POINT = 'sub_bytes_in' # let's pick an attack point- Key is not a good target: it doesn't work for TinyAEs\n",
    "TARGET_SHARD = 5 # a shard == a different key. Pick the one you would like\n",
    "NUM_TRACES = 14  # how many traces to use - as seen in single byte, 5 traces is enough"
   ],
   "outputs": [],
   "execution_count": 21
  },
  {
   "cell_type": "code",
   "metadata": {
    "id": "oM76ViRr2c4q",
    "outputId": "53dd7c53-da4a-425e-de42-a0d2fa4914bd",
    "colab": {
     "base_uri": "https://localhost:8080/",
     "height": 327,
     "referenced_widgets": [
      "597bf1e75dd1422a896d893bcf189c79",
      "5284d5ca1c234a6581695034555cee46",
      "15033174edd9467a886bdb698b4880f0",
      "bd198df868c945b8943e8bd3526a2f13",
      "3999e49e914341c4a92407e65d700b45",
      "e6a1c4123468488784e44e19ec13e8e1",
      "c3fa582a88be483cb502a48da10fe90c",
      "ef7431fc5ef24c8f857d583fee329bca",
      "ef580fd586b04b99819262f7eefd2236",
      "6753216c57e0461a97e44d61077b3b9b",
      "58a481a8ebf448c4a0ee871ac46a985a"
     ]
    },
    "ExecuteTime": {
     "end_time": "2025-04-03T17:54:56.136508Z",
     "start_time": "2025-04-03T17:54:50.538070Z"
    }
   },
   "source": [
    "# perfoming 16x the byte recovery algorithm showecased above - one for each key byte\n",
    "real_key = [] # what we are supposed to find\n",
    "recovered_key = [] # what we predicted\n",
    "pb = tqdm(total=16, desc=\"guessing key\", unit='guesses')\n",
    "for ATTACK_BYTE in range(16):\n",
    "    # data\n",
    "    keys, pts, x, y = load_attack_shard(shard_paths[TARGET_SHARD], ATTACK_BYTE, ATTACK_POINT, TRACE_LEN, num_traces=NUM_TRACES, full_key=True)\n",
    "    real_key.append(keys[0])\n",
    "    x = x[:,:5000,:]\n",
    "    # load model\n",
    "    model = model5000\n",
    "\n",
    "    # prediction\n",
    "    predictions = model.predict(x)\n",
    "\n",
    "    # computing byte prediction from intermediate predictions\n",
    "    key_preds = ap_preds_to_key_preds(predictions, pts, ATTACK_POINT)\n",
    "\n",
    "    # accumulating probabity\n",
    "    vals = np.zeros((256))\n",
    "    for trace_count, kp in enumerate(key_preds):\n",
    "        vals = vals  + np.log10(kp + 1e-22)\n",
    "\n",
    "    # order predictions by probability\n",
    "    guess_ranks = (np.argsort(vals, )[-256:][::-1])\n",
    "\n",
    "    # take strongest guess as our key guess\n",
    "    recovered_key.append(guess_ranks[0])\n",
    "\n",
    "    # update display\n",
    "    pb.set_postfix({'Recovered key': bytelist_to_hex(recovered_key), \"Real key\": bytelist_to_hex(real_key)})\n",
    "    pb.update()\n",
    "\n",
    "\n",
    "pb.close()"
   ],
   "outputs": [
    {
     "data": {
      "text/plain": [
       "guessing key:   0%|          | 0/16 [00:00<?, ?guesses/s]"
      ],
      "application/vnd.jupyter.widget-view+json": {
       "version_major": 2,
       "version_minor": 0,
       "model_id": "3b91d59124c64c4e8d81ba0718d1f061"
      }
     },
     "metadata": {},
     "output_type": "display_data"
    },
    {
     "name": "stdout",
     "output_type": "stream",
     "text": [
      "\u001B[1m1/1\u001B[0m \u001B[32m━━━━━━━━━━━━━━━━━━━━\u001B[0m\u001B[37m\u001B[0m \u001B[1m0s\u001B[0m 100ms/step\n",
      "\u001B[1m1/1\u001B[0m \u001B[32m━━━━━━━━━━━━━━━━━━━━\u001B[0m\u001B[37m\u001B[0m \u001B[1m0s\u001B[0m 94ms/step\n",
      "\u001B[1m1/1\u001B[0m \u001B[32m━━━━━━━━━━━━━━━━━━━━\u001B[0m\u001B[37m\u001B[0m \u001B[1m0s\u001B[0m 106ms/step\n",
      "\u001B[1m1/1\u001B[0m \u001B[32m━━━━━━━━━━━━━━━━━━━━\u001B[0m\u001B[37m\u001B[0m \u001B[1m0s\u001B[0m 106ms/step\n",
      "\u001B[1m1/1\u001B[0m \u001B[32m━━━━━━━━━━━━━━━━━━━━\u001B[0m\u001B[37m\u001B[0m \u001B[1m0s\u001B[0m 106ms/step\n",
      "\u001B[1m1/1\u001B[0m \u001B[32m━━━━━━━━━━━━━━━━━━━━\u001B[0m\u001B[37m\u001B[0m \u001B[1m0s\u001B[0m 98ms/step\n",
      "\u001B[1m1/1\u001B[0m \u001B[32m━━━━━━━━━━━━━━━━━━━━\u001B[0m\u001B[37m\u001B[0m \u001B[1m0s\u001B[0m 102ms/step\n",
      "\u001B[1m1/1\u001B[0m \u001B[32m━━━━━━━━━━━━━━━━━━━━\u001B[0m\u001B[37m\u001B[0m \u001B[1m0s\u001B[0m 105ms/step\n",
      "\u001B[1m1/1\u001B[0m \u001B[32m━━━━━━━━━━━━━━━━━━━━\u001B[0m\u001B[37m\u001B[0m \u001B[1m0s\u001B[0m 101ms/step\n",
      "\u001B[1m1/1\u001B[0m \u001B[32m━━━━━━━━━━━━━━━━━━━━\u001B[0m\u001B[37m\u001B[0m \u001B[1m0s\u001B[0m 113ms/step\n",
      "\u001B[1m1/1\u001B[0m \u001B[32m━━━━━━━━━━━━━━━━━━━━\u001B[0m\u001B[37m\u001B[0m \u001B[1m0s\u001B[0m 119ms/step\n",
      "\u001B[1m1/1\u001B[0m \u001B[32m━━━━━━━━━━━━━━━━━━━━\u001B[0m\u001B[37m\u001B[0m \u001B[1m0s\u001B[0m 123ms/step\n",
      "\u001B[1m1/1\u001B[0m \u001B[32m━━━━━━━━━━━━━━━━━━━━\u001B[0m\u001B[37m\u001B[0m \u001B[1m0s\u001B[0m 111ms/step\n",
      "\u001B[1m1/1\u001B[0m \u001B[32m━━━━━━━━━━━━━━━━━━━━\u001B[0m\u001B[37m\u001B[0m \u001B[1m0s\u001B[0m 111ms/step\n",
      "\u001B[1m1/1\u001B[0m \u001B[32m━━━━━━━━━━━━━━━━━━━━\u001B[0m\u001B[37m\u001B[0m \u001B[1m0s\u001B[0m 115ms/step\n",
      "\u001B[1m1/1\u001B[0m \u001B[32m━━━━━━━━━━━━━━━━━━━━\u001B[0m\u001B[37m\u001B[0m \u001B[1m0s\u001B[0m 111ms/step\n"
     ]
    }
   ],
   "execution_count": 24
  },
  {
   "cell_type": "code",
   "metadata": {
    "id": "TX66cK4b2c4r",
    "outputId": "81c3f1f5-38bc-454e-bb7f-2a81c73b647a",
    "colab": {
     "base_uri": "https://localhost:8080/"
    },
    "ExecuteTime": {
     "end_time": "2025-04-03T17:54:59.316936Z",
     "start_time": "2025-04-03T17:54:59.088892Z"
    }
   },
   "source": [
    "# check that everything worked out: the recovered key match the real keys\n",
    "hex_display(real_key, 'real key')\n",
    "hex_display(recovered_key, 'recovered key')"
   ],
   "outputs": [
    {
     "name": "stdout",
     "output_type": "stream",
     "text": [
      "green: real key05 E5 73 11 1B 2F A6 B8 3E 78 78 6F 6E 3D 23 C9\n",
      "green: recovered key05 C9 DC D4 9D 3B FF 3B D0 47 5C 90 F3 23 B7 09\n"
     ]
    }
   ],
   "execution_count": 25
  },
  {
   "cell_type": "markdown",
   "metadata": {
    "id": "TXONU_fa2c4r"
   },
   "source": [
    "# Congratulation\n",
    "you were able to use deep learning to recover an AES key with only a few traces.\n",
    "For more information check out [papers/tutorials](https://elie.net/scaaml/)"
   ]
  },
  {
   "metadata": {},
   "cell_type": "markdown",
   "source": "Testing with our own \"load_attack_shard\" method\n"
  }
 ],
 "metadata": {
  "interpreter": {
   "hash": "01a8bb8dc2a583f66dddeb9cbfb4066f628ca6435d0966f49dcad258cbbf42e8"
  },
  "kernelspec": {
   "display_name": "Python 3 (ipykernel)",
   "name": "python3",
   "language": "python"
  },
  "language_info": {
   "codemirror_mode": {
    "name": "ipython",
    "version": 3
   },
   "file_extension": ".py",
   "mimetype": "text/x-python",
   "name": "python",
   "nbconvert_exporter": "python",
   "pygments_lexer": "ipython3",
   "version": "3.8.10"
  },
  "colab": {
   "provenance": []
  },
  "widgets": {
   "application/vnd.jupyter.widget-state+json": {
    "5ade49aa535648b78920a73fe66b6077": {
     "model_module": "@jupyter-widgets/controls",
     "model_name": "HBoxModel",
     "model_module_version": "1.5.0",
     "state": {
      "_dom_classes": [],
      "_model_module": "@jupyter-widgets/controls",
      "_model_module_version": "1.5.0",
      "_model_name": "HBoxModel",
      "_view_count": null,
      "_view_module": "@jupyter-widgets/controls",
      "_view_module_version": "1.5.0",
      "_view_name": "HBoxView",
      "box_style": "",
      "children": [
       "IPY_MODEL_c1400f51d5174e3a94d4604178f68abd",
       "IPY_MODEL_79e00d59812f410c9cea1c2424c08bfb",
       "IPY_MODEL_8ae116eaf2f24dcda0c0c54448116e18"
      ],
      "layout": "IPY_MODEL_25008f1cbb0d4548b64a0d379ef2daaa"
     }
    },
    "c1400f51d5174e3a94d4604178f68abd": {
     "model_module": "@jupyter-widgets/controls",
     "model_name": "HTMLModel",
     "model_module_version": "1.5.0",
     "state": {
      "_dom_classes": [],
      "_model_module": "@jupyter-widgets/controls",
      "_model_module_version": "1.5.0",
      "_model_name": "HTMLModel",
      "_view_count": null,
      "_view_module": "@jupyter-widgets/controls",
      "_view_module_version": "1.5.0",
      "_view_name": "HTMLView",
      "description": "",
      "description_tooltip": null,
      "layout": "IPY_MODEL_043ed07b16904ab0ae9c9a1d06155e77",
      "placeholder": "​",
      "style": "IPY_MODEL_183040e523d54a6e9793b63e91c50573",
      "value": "Recovering bytes: 100%"
     }
    },
    "79e00d59812f410c9cea1c2424c08bfb": {
     "model_module": "@jupyter-widgets/controls",
     "model_name": "FloatProgressModel",
     "model_module_version": "1.5.0",
     "state": {
      "_dom_classes": [],
      "_model_module": "@jupyter-widgets/controls",
      "_model_module_version": "1.5.0",
      "_model_name": "FloatProgressModel",
      "_view_count": null,
      "_view_module": "@jupyter-widgets/controls",
      "_view_module_version": "1.5.0",
      "_view_name": "ProgressView",
      "bar_style": "success",
      "description": "",
      "description_tooltip": null,
      "layout": "IPY_MODEL_133a963231d64d8aa8e738c9e6824c8e",
      "max": 256,
      "min": 0,
      "orientation": "horizontal",
      "style": "IPY_MODEL_165574805266470e9445bd23741bc3f4",
      "value": 256
     }
    },
    "8ae116eaf2f24dcda0c0c54448116e18": {
     "model_module": "@jupyter-widgets/controls",
     "model_name": "HTMLModel",
     "model_module_version": "1.5.0",
     "state": {
      "_dom_classes": [],
      "_model_module": "@jupyter-widgets/controls",
      "_model_module_version": "1.5.0",
      "_model_name": "HTMLModel",
      "_view_count": null,
      "_view_module": "@jupyter-widgets/controls",
      "_view_module_version": "1.5.0",
      "_view_name": "HTMLView",
      "description": "",
      "description_tooltip": null,
      "layout": "IPY_MODEL_9373e3d9b7e04dfa8107806a40eed8d1",
      "placeholder": "​",
      "style": "IPY_MODEL_ec4fe1a1efcd4feb8f150317f889b636",
      "value": " 256/256 [10:26&lt;00:00,  2.86s/shards]"
     }
    },
    "25008f1cbb0d4548b64a0d379ef2daaa": {
     "model_module": "@jupyter-widgets/base",
     "model_name": "LayoutModel",
     "model_module_version": "1.2.0",
     "state": {
      "_model_module": "@jupyter-widgets/base",
      "_model_module_version": "1.2.0",
      "_model_name": "LayoutModel",
      "_view_count": null,
      "_view_module": "@jupyter-widgets/base",
      "_view_module_version": "1.2.0",
      "_view_name": "LayoutView",
      "align_content": null,
      "align_items": null,
      "align_self": null,
      "border": null,
      "bottom": null,
      "display": null,
      "flex": null,
      "flex_flow": null,
      "grid_area": null,
      "grid_auto_columns": null,
      "grid_auto_flow": null,
      "grid_auto_rows": null,
      "grid_column": null,
      "grid_gap": null,
      "grid_row": null,
      "grid_template_areas": null,
      "grid_template_columns": null,
      "grid_template_rows": null,
      "height": null,
      "justify_content": null,
      "justify_items": null,
      "left": null,
      "margin": null,
      "max_height": null,
      "max_width": null,
      "min_height": null,
      "min_width": null,
      "object_fit": null,
      "object_position": null,
      "order": null,
      "overflow": null,
      "overflow_x": null,
      "overflow_y": null,
      "padding": null,
      "right": null,
      "top": null,
      "visibility": null,
      "width": null
     }
    },
    "043ed07b16904ab0ae9c9a1d06155e77": {
     "model_module": "@jupyter-widgets/base",
     "model_name": "LayoutModel",
     "model_module_version": "1.2.0",
     "state": {
      "_model_module": "@jupyter-widgets/base",
      "_model_module_version": "1.2.0",
      "_model_name": "LayoutModel",
      "_view_count": null,
      "_view_module": "@jupyter-widgets/base",
      "_view_module_version": "1.2.0",
      "_view_name": "LayoutView",
      "align_content": null,
      "align_items": null,
      "align_self": null,
      "border": null,
      "bottom": null,
      "display": null,
      "flex": null,
      "flex_flow": null,
      "grid_area": null,
      "grid_auto_columns": null,
      "grid_auto_flow": null,
      "grid_auto_rows": null,
      "grid_column": null,
      "grid_gap": null,
      "grid_row": null,
      "grid_template_areas": null,
      "grid_template_columns": null,
      "grid_template_rows": null,
      "height": null,
      "justify_content": null,
      "justify_items": null,
      "left": null,
      "margin": null,
      "max_height": null,
      "max_width": null,
      "min_height": null,
      "min_width": null,
      "object_fit": null,
      "object_position": null,
      "order": null,
      "overflow": null,
      "overflow_x": null,
      "overflow_y": null,
      "padding": null,
      "right": null,
      "top": null,
      "visibility": null,
      "width": null
     }
    },
    "183040e523d54a6e9793b63e91c50573": {
     "model_module": "@jupyter-widgets/controls",
     "model_name": "DescriptionStyleModel",
     "model_module_version": "1.5.0",
     "state": {
      "_model_module": "@jupyter-widgets/controls",
      "_model_module_version": "1.5.0",
      "_model_name": "DescriptionStyleModel",
      "_view_count": null,
      "_view_module": "@jupyter-widgets/base",
      "_view_module_version": "1.2.0",
      "_view_name": "StyleView",
      "description_width": ""
     }
    },
    "133a963231d64d8aa8e738c9e6824c8e": {
     "model_module": "@jupyter-widgets/base",
     "model_name": "LayoutModel",
     "model_module_version": "1.2.0",
     "state": {
      "_model_module": "@jupyter-widgets/base",
      "_model_module_version": "1.2.0",
      "_model_name": "LayoutModel",
      "_view_count": null,
      "_view_module": "@jupyter-widgets/base",
      "_view_module_version": "1.2.0",
      "_view_name": "LayoutView",
      "align_content": null,
      "align_items": null,
      "align_self": null,
      "border": null,
      "bottom": null,
      "display": null,
      "flex": null,
      "flex_flow": null,
      "grid_area": null,
      "grid_auto_columns": null,
      "grid_auto_flow": null,
      "grid_auto_rows": null,
      "grid_column": null,
      "grid_gap": null,
      "grid_row": null,
      "grid_template_areas": null,
      "grid_template_columns": null,
      "grid_template_rows": null,
      "height": null,
      "justify_content": null,
      "justify_items": null,
      "left": null,
      "margin": null,
      "max_height": null,
      "max_width": null,
      "min_height": null,
      "min_width": null,
      "object_fit": null,
      "object_position": null,
      "order": null,
      "overflow": null,
      "overflow_x": null,
      "overflow_y": null,
      "padding": null,
      "right": null,
      "top": null,
      "visibility": null,
      "width": null
     }
    },
    "165574805266470e9445bd23741bc3f4": {
     "model_module": "@jupyter-widgets/controls",
     "model_name": "ProgressStyleModel",
     "model_module_version": "1.5.0",
     "state": {
      "_model_module": "@jupyter-widgets/controls",
      "_model_module_version": "1.5.0",
      "_model_name": "ProgressStyleModel",
      "_view_count": null,
      "_view_module": "@jupyter-widgets/base",
      "_view_module_version": "1.2.0",
      "_view_name": "StyleView",
      "bar_color": null,
      "description_width": ""
     }
    },
    "9373e3d9b7e04dfa8107806a40eed8d1": {
     "model_module": "@jupyter-widgets/base",
     "model_name": "LayoutModel",
     "model_module_version": "1.2.0",
     "state": {
      "_model_module": "@jupyter-widgets/base",
      "_model_module_version": "1.2.0",
      "_model_name": "LayoutModel",
      "_view_count": null,
      "_view_module": "@jupyter-widgets/base",
      "_view_module_version": "1.2.0",
      "_view_name": "LayoutView",
      "align_content": null,
      "align_items": null,
      "align_self": null,
      "border": null,
      "bottom": null,
      "display": null,
      "flex": null,
      "flex_flow": null,
      "grid_area": null,
      "grid_auto_columns": null,
      "grid_auto_flow": null,
      "grid_auto_rows": null,
      "grid_column": null,
      "grid_gap": null,
      "grid_row": null,
      "grid_template_areas": null,
      "grid_template_columns": null,
      "grid_template_rows": null,
      "height": null,
      "justify_content": null,
      "justify_items": null,
      "left": null,
      "margin": null,
      "max_height": null,
      "max_width": null,
      "min_height": null,
      "min_width": null,
      "object_fit": null,
      "object_position": null,
      "order": null,
      "overflow": null,
      "overflow_x": null,
      "overflow_y": null,
      "padding": null,
      "right": null,
      "top": null,
      "visibility": null,
      "width": null
     }
    },
    "ec4fe1a1efcd4feb8f150317f889b636": {
     "model_module": "@jupyter-widgets/controls",
     "model_name": "DescriptionStyleModel",
     "model_module_version": "1.5.0",
     "state": {
      "_model_module": "@jupyter-widgets/controls",
      "_model_module_version": "1.5.0",
      "_model_name": "DescriptionStyleModel",
      "_view_count": null,
      "_view_module": "@jupyter-widgets/base",
      "_view_module_version": "1.2.0",
      "_view_name": "StyleView",
      "description_width": ""
     }
    },
    "597bf1e75dd1422a896d893bcf189c79": {
     "model_module": "@jupyter-widgets/controls",
     "model_name": "HBoxModel",
     "model_module_version": "1.5.0",
     "state": {
      "_dom_classes": [],
      "_model_module": "@jupyter-widgets/controls",
      "_model_module_version": "1.5.0",
      "_model_name": "HBoxModel",
      "_view_count": null,
      "_view_module": "@jupyter-widgets/controls",
      "_view_module_version": "1.5.0",
      "_view_name": "HBoxView",
      "box_style": "",
      "children": [
       "IPY_MODEL_5284d5ca1c234a6581695034555cee46",
       "IPY_MODEL_15033174edd9467a886bdb698b4880f0",
       "IPY_MODEL_bd198df868c945b8943e8bd3526a2f13"
      ],
      "layout": "IPY_MODEL_3999e49e914341c4a92407e65d700b45"
     }
    },
    "5284d5ca1c234a6581695034555cee46": {
     "model_module": "@jupyter-widgets/controls",
     "model_name": "HTMLModel",
     "model_module_version": "1.5.0",
     "state": {
      "_dom_classes": [],
      "_model_module": "@jupyter-widgets/controls",
      "_model_module_version": "1.5.0",
      "_model_name": "HTMLModel",
      "_view_count": null,
      "_view_module": "@jupyter-widgets/controls",
      "_view_module_version": "1.5.0",
      "_view_name": "HTMLView",
      "description": "",
      "description_tooltip": null,
      "layout": "IPY_MODEL_e6a1c4123468488784e44e19ec13e8e1",
      "placeholder": "​",
      "style": "IPY_MODEL_c3fa582a88be483cb502a48da10fe90c",
      "value": "guessing key: 100%"
     }
    },
    "15033174edd9467a886bdb698b4880f0": {
     "model_module": "@jupyter-widgets/controls",
     "model_name": "FloatProgressModel",
     "model_module_version": "1.5.0",
     "state": {
      "_dom_classes": [],
      "_model_module": "@jupyter-widgets/controls",
      "_model_module_version": "1.5.0",
      "_model_name": "FloatProgressModel",
      "_view_count": null,
      "_view_module": "@jupyter-widgets/controls",
      "_view_module_version": "1.5.0",
      "_view_name": "ProgressView",
      "bar_style": "success",
      "description": "",
      "description_tooltip": null,
      "layout": "IPY_MODEL_ef7431fc5ef24c8f857d583fee329bca",
      "max": 16,
      "min": 0,
      "orientation": "horizontal",
      "style": "IPY_MODEL_ef580fd586b04b99819262f7eefd2236",
      "value": 16
     }
    },
    "bd198df868c945b8943e8bd3526a2f13": {
     "model_module": "@jupyter-widgets/controls",
     "model_name": "HTMLModel",
     "model_module_version": "1.5.0",
     "state": {
      "_dom_classes": [],
      "_model_module": "@jupyter-widgets/controls",
      "_model_module_version": "1.5.0",
      "_model_name": "HTMLModel",
      "_view_count": null,
      "_view_module": "@jupyter-widgets/controls",
      "_view_module_version": "1.5.0",
      "_view_name": "HTMLView",
      "description": "",
      "description_tooltip": null,
      "layout": "IPY_MODEL_6753216c57e0461a97e44d61077b3b9b",
      "placeholder": "​",
      "style": "IPY_MODEL_58a481a8ebf448c4a0ee871ac46a985a",
      "value": " 16/16 [00:06&lt;00:00,  2.65guesses/s, Recovered key=95 D4 8D 9F 7A 6D 95 F3 1C 01 F2 33 C2 6C AB FC, Real key=95 46 B3 84 00 EE 0D EC 27 EB 10 6B D7 77 9F AD]"
     }
    },
    "3999e49e914341c4a92407e65d700b45": {
     "model_module": "@jupyter-widgets/base",
     "model_name": "LayoutModel",
     "model_module_version": "1.2.0",
     "state": {
      "_model_module": "@jupyter-widgets/base",
      "_model_module_version": "1.2.0",
      "_model_name": "LayoutModel",
      "_view_count": null,
      "_view_module": "@jupyter-widgets/base",
      "_view_module_version": "1.2.0",
      "_view_name": "LayoutView",
      "align_content": null,
      "align_items": null,
      "align_self": null,
      "border": null,
      "bottom": null,
      "display": null,
      "flex": null,
      "flex_flow": null,
      "grid_area": null,
      "grid_auto_columns": null,
      "grid_auto_flow": null,
      "grid_auto_rows": null,
      "grid_column": null,
      "grid_gap": null,
      "grid_row": null,
      "grid_template_areas": null,
      "grid_template_columns": null,
      "grid_template_rows": null,
      "height": null,
      "justify_content": null,
      "justify_items": null,
      "left": null,
      "margin": null,
      "max_height": null,
      "max_width": null,
      "min_height": null,
      "min_width": null,
      "object_fit": null,
      "object_position": null,
      "order": null,
      "overflow": null,
      "overflow_x": null,
      "overflow_y": null,
      "padding": null,
      "right": null,
      "top": null,
      "visibility": null,
      "width": null
     }
    },
    "e6a1c4123468488784e44e19ec13e8e1": {
     "model_module": "@jupyter-widgets/base",
     "model_name": "LayoutModel",
     "model_module_version": "1.2.0",
     "state": {
      "_model_module": "@jupyter-widgets/base",
      "_model_module_version": "1.2.0",
      "_model_name": "LayoutModel",
      "_view_count": null,
      "_view_module": "@jupyter-widgets/base",
      "_view_module_version": "1.2.0",
      "_view_name": "LayoutView",
      "align_content": null,
      "align_items": null,
      "align_self": null,
      "border": null,
      "bottom": null,
      "display": null,
      "flex": null,
      "flex_flow": null,
      "grid_area": null,
      "grid_auto_columns": null,
      "grid_auto_flow": null,
      "grid_auto_rows": null,
      "grid_column": null,
      "grid_gap": null,
      "grid_row": null,
      "grid_template_areas": null,
      "grid_template_columns": null,
      "grid_template_rows": null,
      "height": null,
      "justify_content": null,
      "justify_items": null,
      "left": null,
      "margin": null,
      "max_height": null,
      "max_width": null,
      "min_height": null,
      "min_width": null,
      "object_fit": null,
      "object_position": null,
      "order": null,
      "overflow": null,
      "overflow_x": null,
      "overflow_y": null,
      "padding": null,
      "right": null,
      "top": null,
      "visibility": null,
      "width": null
     }
    },
    "c3fa582a88be483cb502a48da10fe90c": {
     "model_module": "@jupyter-widgets/controls",
     "model_name": "DescriptionStyleModel",
     "model_module_version": "1.5.0",
     "state": {
      "_model_module": "@jupyter-widgets/controls",
      "_model_module_version": "1.5.0",
      "_model_name": "DescriptionStyleModel",
      "_view_count": null,
      "_view_module": "@jupyter-widgets/base",
      "_view_module_version": "1.2.0",
      "_view_name": "StyleView",
      "description_width": ""
     }
    },
    "ef7431fc5ef24c8f857d583fee329bca": {
     "model_module": "@jupyter-widgets/base",
     "model_name": "LayoutModel",
     "model_module_version": "1.2.0",
     "state": {
      "_model_module": "@jupyter-widgets/base",
      "_model_module_version": "1.2.0",
      "_model_name": "LayoutModel",
      "_view_count": null,
      "_view_module": "@jupyter-widgets/base",
      "_view_module_version": "1.2.0",
      "_view_name": "LayoutView",
      "align_content": null,
      "align_items": null,
      "align_self": null,
      "border": null,
      "bottom": null,
      "display": null,
      "flex": null,
      "flex_flow": null,
      "grid_area": null,
      "grid_auto_columns": null,
      "grid_auto_flow": null,
      "grid_auto_rows": null,
      "grid_column": null,
      "grid_gap": null,
      "grid_row": null,
      "grid_template_areas": null,
      "grid_template_columns": null,
      "grid_template_rows": null,
      "height": null,
      "justify_content": null,
      "justify_items": null,
      "left": null,
      "margin": null,
      "max_height": null,
      "max_width": null,
      "min_height": null,
      "min_width": null,
      "object_fit": null,
      "object_position": null,
      "order": null,
      "overflow": null,
      "overflow_x": null,
      "overflow_y": null,
      "padding": null,
      "right": null,
      "top": null,
      "visibility": null,
      "width": null
     }
    },
    "ef580fd586b04b99819262f7eefd2236": {
     "model_module": "@jupyter-widgets/controls",
     "model_name": "ProgressStyleModel",
     "model_module_version": "1.5.0",
     "state": {
      "_model_module": "@jupyter-widgets/controls",
      "_model_module_version": "1.5.0",
      "_model_name": "ProgressStyleModel",
      "_view_count": null,
      "_view_module": "@jupyter-widgets/base",
      "_view_module_version": "1.2.0",
      "_view_name": "StyleView",
      "bar_color": null,
      "description_width": ""
     }
    },
    "6753216c57e0461a97e44d61077b3b9b": {
     "model_module": "@jupyter-widgets/base",
     "model_name": "LayoutModel",
     "model_module_version": "1.2.0",
     "state": {
      "_model_module": "@jupyter-widgets/base",
      "_model_module_version": "1.2.0",
      "_model_name": "LayoutModel",
      "_view_count": null,
      "_view_module": "@jupyter-widgets/base",
      "_view_module_version": "1.2.0",
      "_view_name": "LayoutView",
      "align_content": null,
      "align_items": null,
      "align_self": null,
      "border": null,
      "bottom": null,
      "display": null,
      "flex": null,
      "flex_flow": null,
      "grid_area": null,
      "grid_auto_columns": null,
      "grid_auto_flow": null,
      "grid_auto_rows": null,
      "grid_column": null,
      "grid_gap": null,
      "grid_row": null,
      "grid_template_areas": null,
      "grid_template_columns": null,
      "grid_template_rows": null,
      "height": null,
      "justify_content": null,
      "justify_items": null,
      "left": null,
      "margin": null,
      "max_height": null,
      "max_width": null,
      "min_height": null,
      "min_width": null,
      "object_fit": null,
      "object_position": null,
      "order": null,
      "overflow": null,
      "overflow_x": null,
      "overflow_y": null,
      "padding": null,
      "right": null,
      "top": null,
      "visibility": null,
      "width": null
     }
    },
    "58a481a8ebf448c4a0ee871ac46a985a": {
     "model_module": "@jupyter-widgets/controls",
     "model_name": "DescriptionStyleModel",
     "model_module_version": "1.5.0",
     "state": {
      "_model_module": "@jupyter-widgets/controls",
      "_model_module_version": "1.5.0",
      "_model_name": "DescriptionStyleModel",
      "_view_count": null,
      "_view_module": "@jupyter-widgets/base",
      "_view_module_version": "1.2.0",
      "_view_name": "StyleView",
      "description_width": ""
     }
    }
   }
  }
 },
 "nbformat": 4,
 "nbformat_minor": 0
}
