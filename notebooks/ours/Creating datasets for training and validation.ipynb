{
 "cells": [
  {
   "cell_type": "code",
   "id": "initial_id",
   "metadata": {
    "collapsed": true,
    "ExecuteTime": {
     "end_time": "2025-04-14T23:15:44.757343Z",
     "start_time": "2025-04-14T23:15:39.929709Z"
    }
   },
   "source": "import src.DAT255_SCA.utils.dataset_utils as utils",
   "outputs": [],
   "execution_count": 3
  },
  {
   "metadata": {
    "ExecuteTime": {
     "end_time": "2025-04-14T23:15:36.322139Z",
     "start_time": "2025-04-14T23:15:36.301882Z"
    }
   },
   "cell_type": "code",
   "source": [
    "file_path = \"../datasets/validation_5_like_1.hdf5\"\n",
    "new_set_name =\"validation_4\"\n",
    "num_of_keys = 256\n",
    "trace_per_key = 256"
   ],
   "id": "e683b7acfcda6d86",
   "outputs": [],
   "execution_count": 1
  },
  {
   "metadata": {
    "ExecuteTime": {
     "end_time": "2025-04-14T23:15:52.260969Z",
     "start_time": "2025-04-14T23:15:44.764338Z"
    }
   },
   "cell_type": "code",
   "source": "utils.create_dataset(file_path, 256, 256, new_set_name)\n",
   "id": "39c7a4553670ab61",
   "outputs": [],
   "execution_count": 4
  },
  {
   "metadata": {
    "ExecuteTime": {
     "end_time": "2025-04-14T21:35:21.743962Z",
     "start_time": "2025-04-14T21:35:21.731960Z"
    }
   },
   "cell_type": "code",
   "source": [
    "#val0 random key and text?\n",
    "#val2 random key and locked text\n",
    "#val3 failed, same key all the time\n",
    "#val4 is val3 but different key\n",
    "#val5 is val0 but definite correct trace #fixed text, changing key with ktp\n",
    "#mistet oversikten het"
   ],
   "id": "80568f60b8ec7805",
   "outputs": [],
   "execution_count": null
  },
  {
   "metadata": {
    "ExecuteTime": {
     "end_time": "2025-04-11T11:52:49.059204Z",
     "start_time": "2025-04-11T11:52:49.052702Z"
    }
   },
   "cell_type": "code",
   "source": "",
   "id": "327d3cf626759b0b",
   "outputs": [],
   "execution_count": 9
  },
  {
   "metadata": {},
   "cell_type": "code",
   "outputs": [],
   "execution_count": null,
   "source": "",
   "id": "b8c4110f97446243"
  }
 ],
 "metadata": {
  "kernelspec": {
   "display_name": "Python 3",
   "language": "python",
   "name": "python3"
  },
  "language_info": {
   "codemirror_mode": {
    "name": "ipython",
    "version": 2
   },
   "file_extension": ".py",
   "mimetype": "text/x-python",
   "name": "python",
   "nbconvert_exporter": "python",
   "pygments_lexer": "ipython2",
   "version": "2.7.6"
  }
 },
 "nbformat": 4,
 "nbformat_minor": 5
}
