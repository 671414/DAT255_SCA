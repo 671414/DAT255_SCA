{
 "cells": [
  {
   "metadata": {},
   "cell_type": "markdown",
   "source": [
    "This notebook handles trace scaling, matrix transposing and sub byte in computation. The result is a new hdf5 file in this notebook folder. \n",
    "\n",
    "The hdf5 might not appear immediately, the fastest workaround have been to restart pycharm. \n",
    "\n",
    "This setup expects the dataset to be stored in notebooks/datasets.\n",
    "\n",
    "Its important to change the name of the new dataset, because utils.create_dataset will overwrite any previous files with the name."
   ],
   "id": "193454d69b7a6e0c"
  },
  {
   "cell_type": "code",
   "id": "initial_id",
   "metadata": {
    "collapsed": true,
    "ExecuteTime": {
     "end_time": "2025-04-14T23:15:44.757343Z",
     "start_time": "2025-04-14T23:15:39.929709Z"
    }
   },
   "source": "import src.DAT255_SCA.utils.dataset_utils as utils",
   "outputs": [],
   "execution_count": 3
  },
  {
   "metadata": {
    "ExecuteTime": {
     "end_time": "2025-04-14T23:15:36.322139Z",
     "start_time": "2025-04-14T23:15:36.301882Z"
    }
   },
   "cell_type": "code",
   "source": [
    "file_path = \"../datasets/validation_5_like_1.hdf5\"\n",
    "new_set_name =\"validation_4\"\n",
    "num_of_keys = 256\n",
    "trace_per_key = 256"
   ],
   "id": "e683b7acfcda6d86",
   "outputs": [],
   "execution_count": 1
  },
  {
   "metadata": {
    "ExecuteTime": {
     "end_time": "2025-04-14T23:15:52.260969Z",
     "start_time": "2025-04-14T23:15:44.764338Z"
    }
   },
   "cell_type": "code",
   "source": "utils.create_dataset(file_path, 256, 256, new_set_name)\n",
   "id": "39c7a4553670ab61",
   "outputs": [],
   "execution_count": 4
  }
 ],
 "metadata": {
  "kernelspec": {
   "display_name": "Python 3",
   "language": "python",
   "name": "python3"
  },
  "language_info": {
   "codemirror_mode": {
    "name": "ipython",
    "version": 2
   },
   "file_extension": ".py",
   "mimetype": "text/x-python",
   "name": "python",
   "nbconvert_exporter": "python",
   "pygments_lexer": "ipython2",
   "version": "2.7.6"
  }
 },
 "nbformat": 4,
 "nbformat_minor": 5
}
