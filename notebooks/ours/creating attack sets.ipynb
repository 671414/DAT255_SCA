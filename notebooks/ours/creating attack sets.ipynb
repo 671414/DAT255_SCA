{
 "cells": [
  {
   "cell_type": "code",
   "id": "initial_id",
   "metadata": {
    "collapsed": true,
    "ExecuteTime": {
     "end_time": "2025-03-25T16:30:27.153064Z",
     "start_time": "2025-03-25T16:30:26.656666Z"
    }
   },
   "source": [
    "from typing import List\n",
    "\n",
    "import numpy as np\n",
    "import tensorflow as tf\n",
    "import h5py\n",
    "import os\n",
    "\n",
    "from tensorflow.python.framework.config import list_physical_devices\n",
    "from tensorflow.python.keras.utils.np_utils import to_categorical\n",
    "from keras.src.backend.tensorflow.sparse import zeros_int8\n",
    "from tensorflow import Tensor"
   ],
   "outputs": [
    {
     "ename": "ModuleNotFoundError",
     "evalue": "No module named 'tensorflow'",
     "output_type": "error",
     "traceback": [
      "\u001B[1;31m---------------------------------------------------------------------------\u001B[0m",
      "\u001B[1;31mModuleNotFoundError\u001B[0m                       Traceback (most recent call last)",
      "Cell \u001B[1;32mIn[1], line 4\u001B[0m\n\u001B[0;32m      1\u001B[0m \u001B[38;5;28;01mfrom\u001B[39;00m\u001B[38;5;250m \u001B[39m\u001B[38;5;21;01mtyping\u001B[39;00m\u001B[38;5;250m \u001B[39m\u001B[38;5;28;01mimport\u001B[39;00m List\n\u001B[0;32m      3\u001B[0m \u001B[38;5;28;01mimport\u001B[39;00m\u001B[38;5;250m \u001B[39m\u001B[38;5;21;01mnumpy\u001B[39;00m\u001B[38;5;250m \u001B[39m\u001B[38;5;28;01mas\u001B[39;00m\u001B[38;5;250m \u001B[39m\u001B[38;5;21;01mnp\u001B[39;00m\n\u001B[1;32m----> 4\u001B[0m \u001B[38;5;28;01mimport\u001B[39;00m\u001B[38;5;250m \u001B[39m\u001B[38;5;21;01mtensorflow\u001B[39;00m\u001B[38;5;250m \u001B[39m\u001B[38;5;28;01mas\u001B[39;00m\u001B[38;5;250m \u001B[39m\u001B[38;5;21;01mtf\u001B[39;00m\n\u001B[0;32m      5\u001B[0m \u001B[38;5;28;01mimport\u001B[39;00m\u001B[38;5;250m \u001B[39m\u001B[38;5;21;01mh5py\u001B[39;00m\n\u001B[0;32m      6\u001B[0m \u001B[38;5;28;01mimport\u001B[39;00m\u001B[38;5;250m \u001B[39m\u001B[38;5;21;01mos\u001B[39;00m\n",
      "\u001B[1;31mModuleNotFoundError\u001B[0m: No module named 'tensorflow'"
     ]
    }
   ],
   "execution_count": 1
  },
  {
   "metadata": {
    "ExecuteTime": {
     "end_time": "2025-03-13T14:26:33.851554Z",
     "start_time": "2025-03-13T14:26:33.832208Z"
    }
   },
   "cell_type": "code",
   "source": [
    "#må byttes med der du har lagret filene 256*16 i dette setet\n",
    "file_path = \"C:\\\\Users\\\\Kaspar\\\\ChipWhisperer5_64\\\\cw\\\\home\\\\portable\\\\chipwhisperer\\\\jupyter\\\\courses\\\\sca101\\\\TINYAES_test_attack.hdf5\"\n",
    "with h5py.File(file_path, \"r\") as h5_file:\n",
    "    plaintext_set = h5_file['data'][:]\n",
    "    trace_set = h5_file['trace'][:]\n",
    "    key_set = h5_file['key'][:]\n",
    "    #sub_byte_out_set = h5_file['sub_byte_out'][:]"
   ],
   "id": "3721e771c31c1cd9",
   "outputs": [],
   "execution_count": 47
  },
  {
   "metadata": {
    "ExecuteTime": {
     "end_time": "2025-03-13T14:26:33.897588Z",
     "start_time": "2025-03-13T14:26:33.854916Z"
    }
   },
   "cell_type": "code",
   "source": [
    "trace_set = tf.keras.layers.Rescaling(1. / 127.5, offset=-1)(trace_set)\n",
    "trace_set = tf.expand_dims(trace_set, axis=-1)"
   ],
   "id": "435d464cf26d0042",
   "outputs": [],
   "execution_count": 48
  },
  {
   "metadata": {
    "ExecuteTime": {
     "end_time": "2025-03-13T14:26:33.947914Z",
     "start_time": "2025-03-13T14:26:33.908108Z"
    }
   },
   "cell_type": "code",
   "source": [
    "num_traces = len(trace_set)\n",
    "num_bytes = 16\n",
    "sub_byte_in_set = np.zeros((num_traces, 16), dtype=np.uint8)\n",
    "\n",
    "for i in range(num_traces):\n",
    "    for byte_index in range(num_bytes):\n",
    "        pts=plaintext_set[i][byte_index] ^ key_set[i,byte_index]\n",
    "        sub_byte_in_set[i,byte_index] = pts\n",
    "#check if this works\n",
    "sub_byte_in_set = sub_byte_in_set"
   ],
   "id": "ba31e9f24bc73411",
   "outputs": [],
   "execution_count": 49
  },
  {
   "metadata": {
    "ExecuteTime": {
     "end_time": "2025-03-13T14:26:33.961115Z",
     "start_time": "2025-03-13T14:26:33.956063Z"
    }
   },
   "cell_type": "code",
   "source": [
    "sub_byte_out = np.transpose(sub_byte_out_set, (1, 0))\n",
    "sub_byte_in = np.transpose(sub_byte_in_set, (1, 0))\n",
    "key = np.transpose(key_set, (1, 0))\n",
    "#pts = np.transpose(plaintext_set, (1, 0))"
   ],
   "id": "c3f6520984a5a65e",
   "outputs": [],
   "execution_count": 50
  },
  {
   "metadata": {
    "ExecuteTime": {
     "end_time": "2025-03-13T14:27:16.567842Z",
     "start_time": "2025-03-13T14:27:16.561368Z"
    }
   },
   "cell_type": "code",
   "source": "pts.shape",
   "id": "c8aa789e3df51ce",
   "outputs": [
    {
     "data": {
      "text/plain": [
       "()"
      ]
     },
     "execution_count": 56,
     "metadata": {},
     "output_type": "execute_result"
    }
   ],
   "execution_count": 56
  },
  {
   "metadata": {
    "ExecuteTime": {
     "end_time": "2025-03-13T14:27:38.513407Z",
     "start_time": "2025-03-13T14:27:38.448923Z"
    }
   },
   "cell_type": "code",
   "source": [
    "num_shards = 16\n",
    "num_traces_per_shard = 256\n",
    "file_path = \"\\\\...\\\\DAT255_SCA\\\\datasets\"\n",
    "\n",
    "#index to mark start and stop for slicing\n",
    "start_index = 0\n",
    "stop_index = num_traces_per_shard\n",
    "dataset_name = \"attack\" #change depending on the set you create\n",
    "\n",
    "#create a new h5py file that will contain the shards\n",
    "f = h5py.File(f\"{dataset_name}.hdf5\", \"w\")\n",
    "\n",
    "#Loop trough the dataset, creating groups for every key\n",
    "for i in range(num_shards):\n",
    "# create a group for each key, the name of the group will be the key in hex. This is refering to the original key\n",
    "#array, different indexing is needed if you want to use key\n",
    "    group_name = key_set[start_index].tobytes().hex()\n",
    "#Create one group representing a shard\n",
    "\n",
    "    group = f.create_group(group_name, track_order=True)\n",
    "#oppretter datasettene\n",
    "#rad, kolonne, steg vi vil ha alle rader, 256 kolonner av gangen. Også vurder å ta to categorical senere i prosessen\n",
    "#Må treffe på fordelingen her\n",
    "    group.create_dataset(\"traces\", data = trace_set[start_index:stop_index, :, :])\n",
    "    group.create_dataset(\"key\", data = key[:, start_index:stop_index])\n",
    "    group.create_dataset(\"sub_bytes_in\", data = sub_byte_in[:, start_index:stop_index])\n",
    "    group.create_dataset(\"sub_bytes_out\", data = sub_byte_out[start_index:stop_index: ,])\n",
    "    group.create_dataset(\"pts\", data = plaintext_set[start_index:stop_index, :])\n",
    "#må også ha trace slik at den kan hentes\n",
    "    start_index += num_traces_per_shard\n",
    "    stop_index += num_traces_per_shard\n",
    "f.close()"
   ],
   "id": "d8ee3132c4d2d199",
   "outputs": [],
   "execution_count": 58
  },
  {
   "metadata": {
    "ExecuteTime": {
     "end_time": "2025-03-13T14:27:33.571501Z",
     "start_time": "2025-03-13T14:27:33.567494Z"
    }
   },
   "cell_type": "code",
   "source": "f.close()",
   "id": "e7e728b926c33611",
   "outputs": [],
   "execution_count": 57
  },
  {
   "metadata": {
    "ExecuteTime": {
     "end_time": "2025-03-13T15:13:50.709362Z",
     "start_time": "2025-03-13T15:13:50.699618Z"
    }
   },
   "cell_type": "code",
   "source": "tf.config.list_physical_devices(\"GPU\")",
   "id": "8f1259b96a3dabf6",
   "outputs": [
    {
     "data": {
      "text/plain": [
       "[]"
      ]
     },
     "execution_count": 60,
     "metadata": {},
     "output_type": "execute_result"
    }
   ],
   "execution_count": 60
  },
  {
   "metadata": {
    "ExecuteTime": {
     "end_time": "2025-03-13T15:37:45.466887Z",
     "start_time": "2025-03-13T15:37:45.448472Z"
    }
   },
   "cell_type": "code",
   "source": [
    "import tensorflow as tf\n",
    "print(\"Num GPUs Available: \", len(tf.config.list_physical_devices('GPU')))"
   ],
   "id": "c3d555bdc1ef7999",
   "outputs": [
    {
     "name": "stdout",
     "output_type": "stream",
     "text": [
      "Num GPUs Available:  0\n"
     ]
    }
   ],
   "execution_count": 62
  },
  {
   "metadata": {},
   "cell_type": "code",
   "outputs": [],
   "execution_count": null,
   "source": "",
   "id": "67c5721303351cdb"
  }
 ],
 "metadata": {
  "kernelspec": {
   "display_name": "Python 3",
   "language": "python",
   "name": "python3"
  },
  "language_info": {
   "codemirror_mode": {
    "name": "ipython",
    "version": 2
   },
   "file_extension": ".py",
   "mimetype": "text/x-python",
   "name": "python",
   "nbconvert_exporter": "python",
   "pygments_lexer": "ipython2",
   "version": "2.7.6"
  }
 },
 "nbformat": 4,
 "nbformat_minor": 5
}
