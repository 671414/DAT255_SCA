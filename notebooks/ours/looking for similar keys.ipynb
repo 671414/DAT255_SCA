{
 "cells": [
  {
   "metadata": {},
   "cell_type": "markdown",
   "source": [
    "This notebook can be used to find similar keys between datasets. This should be done before training, as using the same key in training and testing sets can cause the model to overfit to the key.\n",
    "In our dataset there is one key shared between training and testing, but we have still achieved decent results."
   ],
   "id": "ede63e053f9fc320"
  },
  {
   "metadata": {
    "ExecuteTime": {
     "end_time": "2025-04-14T19:39:14.071624Z",
     "start_time": "2025-04-14T19:39:09.312148Z"
    }
   },
   "cell_type": "code",
   "source": [
    "import src.DAT255_SCA.utils.dataset_utils as utils\n",
    "\n",
    "training = \"../datasets/train/training_0.hdf5\"\n",
    "testing = \"../datasets/test/testing_0.hdf5\"\n",
    "validation = \"../datasets/attack/validation_0_rk_rp.hdf5\"\n"
   ],
   "id": "f41b0aa4b8c1889d",
   "outputs": [],
   "execution_count": 1
  },
  {
   "metadata": {
    "ExecuteTime": {
     "end_time": "2025-04-14T19:39:14.895177Z",
     "start_time": "2025-04-14T19:39:14.833907Z"
    }
   },
   "cell_type": "code",
   "source": [
    "common_keys = utils.look_for_duplicate_keys(training, testing)\n",
    "print(f\"common keys: {common_keys}\")\n"
   ],
   "id": "9a35e0d4070ae645",
   "outputs": [
    {
     "name": "stdout",
     "output_type": "stream",
     "text": [
      "[123 212  64 231 103 136  38 171 145  68 207 235  35  71 173  84] [123 212  64 231 103 136  38 171 145  68 207 235  35  71 173  84]\n",
      "Felles nøkler: [64, 35, 68, 38, 103, 231, 136, 71, 171, 235, 173, 207, 145, 212, 84, 123]\n"
     ]
    }
   ],
   "execution_count": 2
  },
  {
   "metadata": {
    "ExecuteTime": {
     "end_time": "2025-04-14T19:37:38.585897Z",
     "start_time": "2025-04-14T19:37:38.509298Z"
    }
   },
   "cell_type": "code",
   "source": [
    "common_keys = utils.look_for_duplicate_keys(training, validation)\n",
    "print(f\"common keys: {common_keys}\")"
   ],
   "id": "d3958164acbbd1c2",
   "outputs": [
    {
     "name": "stdout",
     "output_type": "stream",
     "text": [
      "Felles nøkler: []\n"
     ]
    }
   ],
   "execution_count": 10
  },
  {
   "metadata": {
    "ExecuteTime": {
     "end_time": "2025-04-14T19:37:40.871328Z",
     "start_time": "2025-04-14T19:37:40.804291Z"
    }
   },
   "cell_type": "code",
   "source": [
    "common_keys = utils.look_for_duplicate_keys(testing, validation)\n",
    "print(f\"common keys: {common_keys}\")"
   ],
   "id": "97d8dc3ce3195e",
   "outputs": [
    {
     "name": "stdout",
     "output_type": "stream",
     "text": [
      "felles nøkler: []\n"
     ]
    }
   ],
   "execution_count": 11
  },
  {
   "metadata": {
    "ExecuteTime": {
     "end_time": "2025-04-16T12:07:49.880565Z",
     "start_time": "2025-04-16T12:07:49.864424Z"
    }
   },
   "cell_type": "code",
   "source": "",
   "id": "490d93ba4bd12647",
   "outputs": [],
   "execution_count": null
  },
  {
   "metadata": {
    "ExecuteTime": {
     "end_time": "2025-04-16T12:07:49.896570Z",
     "start_time": "2025-04-16T12:07:49.893568Z"
    }
   },
   "cell_type": "code",
   "source": "",
   "id": "8e44a35b170a4932",
   "outputs": [],
   "execution_count": null
  },
  {
   "metadata": {
    "ExecuteTime": {
     "end_time": "2025-04-16T12:07:50.532209Z",
     "start_time": "2025-04-16T12:07:50.519357Z"
    }
   },
   "cell_type": "code",
   "source": "",
   "id": "36c0025893ec5738",
   "outputs": [],
   "execution_count": null
  },
  {
   "metadata": {},
   "cell_type": "code",
   "outputs": [],
   "execution_count": null,
   "source": "",
   "id": "4de55c27e4f8c66e"
  }
 ],
 "metadata": {
  "kernelspec": {
   "display_name": "Python 3",
   "language": "python",
   "name": "python3"
  },
  "language_info": {
   "codemirror_mode": {
    "name": "ipython",
    "version": 2
   },
   "file_extension": ".py",
   "mimetype": "text/x-python",
   "name": "python",
   "nbconvert_exporter": "python",
   "pygments_lexer": "ipython2",
   "version": "2.7.6"
  }
 },
 "nbformat": 4,
 "nbformat_minor": 5
}
