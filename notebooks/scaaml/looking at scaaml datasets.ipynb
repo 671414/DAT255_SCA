{
 "cells": [
  {
   "metadata": {},
   "cell_type": "code",
   "outputs": [],
   "execution_count": null,
   "source": [
    "import os\n",
    "import numpy as np\n",
    "import zipfile\n",
    "\n",
    "# Path to the zip file\n",
    "zip_path = r\"C:\\Users\\Kaspar\\Downloads\\datasets.zip\"\n",
    "\n",
    "# Extract and examine the npz files\n",
    "with zipfile.ZipFile(zip_path, 'r') as zip_ref:\n",
    "    dataset_path = \"datasets/tinyaes\"\n",
    "    npz_files = [f for f in zip_ref.namelist() if f.startswith(dataset_path) and f.endswith('.npz')]\n",
    "    for file in npz_files:\n",
    "        with zip_ref.open(file) as npz_file:\n",
    "            data = np.load(npz_file)\n",
    "            print(f\"Contents of {file}:\")\n",
    "            for key in data.keys():\n",
    "                print(f\"  {key}: {data[key].shape}\")"
   ],
   "id": "4dc67c390f74bc6"
  },
  {
   "metadata": {},
   "cell_type": "code",
   "outputs": [],
   "execution_count": null,
   "source": "",
   "id": "d6b92ea7d9c67460"
  },
  {
   "metadata": {},
   "cell_type": "code",
   "outputs": [],
   "execution_count": null,
   "source": [
    "# Extract a single npz file to examine\n",
    "file_to_examine = npz_files[0]\n",
    "with zipfile.ZipFile(zip_path, 'r') as zip_ref:\n",
    "    with zip_ref.open(file_to_examine) as npz_file:\n",
    "        data = np.load(npz_file)\n",
    "        print(f\"Contents of {file_to_examine}:\")\n",
    "        for key in data.keys():\n",
    "            print(f\"  {key}: {data[key].shape}\")\n",
    "            print(\"datatype:\", data[key].dtype)\n",
    "        # Access the 'traces' array for closer inspection\n",
    "        traces = data['traces']\n",
    "        plaintexts = data['pts']\n",
    "        print(f\"\\nFirst 5 traces:\\n{traces[:5]}\")"
   ],
   "id": "e1e348428d14d577"
  },
  {
   "metadata": {},
   "cell_type": "code",
   "outputs": [],
   "execution_count": null,
   "source": [
    "#finding a plaintext where the first byte is 0 and one where the first byte is 255\n",
    "print(plaintexts)\n",
    "min = max = 127\n",
    "for i, row in enumerate(plaintexts):  # Itererer gjennom hver rad\n",
    "    if row[0] < min:  # Sjekker om første byte er 0\n",
    "        print(f\"Rad {i}: {row} (smallest)\")\n",
    "    elif row[0] > max:  # Sjekker om første byte er 255\n",
    "        print(f\"Rad {i}: {row} (biggest)\")\n",
    "\n"
   ],
   "id": "7ae7a77d69998f84"
  },
  {
   "metadata": {},
   "cell_type": "code",
   "outputs": [],
   "execution_count": null,
   "source": [
    "#plotting a trace\n",
    "import matplotlib.pyplot as plt\n",
    "plt.figure(figsize=(50, 40))\n",
    "plt.plot(traces[0][0:20])"
   ],
   "id": "316beb72791303ae"
  },
  {
   "metadata": {},
   "cell_type": "code",
   "outputs": [],
   "execution_count": null,
   "source": [
    "\n",
    "import os\n",
    "import h5py\n",
    "import numpy as np\n",
    "\n",
    "# Define the path to the train.hdf5 file\n",
    "file_path = os.path.join(os.getcwd(), \"train.hdf5\")\n",
    "\n",
    "# Check if the file exists\n",
    "if os.path.exists(file_path):\n",
    "    with h5py.File(file_path, 'r') as hdf5_file:\n",
    "        print(\"File 'train.hdf5' opened successfully.\")\n",
    "        print(f\"Datasets available: {list(hdf5_file.keys())}\")\n",
    "else:\n",
    "    print(\"fuck you\")"
   ],
   "id": "3dd0debd17cdd192"
  },
  {
   "metadata": {},
   "cell_type": "code",
   "outputs": [],
   "execution_count": null,
   "source": [
    "import h5py\n",
    "\n",
    "# Path to the HDF5 file\n",
    "dataset_path = os.path.join(os.getcwd(), \"train.hdf5\")\n",
    "# Load and examine the train.hdf5 dataset\n",
    "with h5py.File(dataset_path, 'r') as f:\n",
    "    for group in f.keys():\n",
    "        print(f\"Group: {group}\")\n",
    "        for dataset in f[group].keys():\n",
    "            print(f\"  Dataset: {dataset}\")\n",
    "            data = f[group][dataset][:]\n",
    "            print(f\"    Shape: {data.shape}\")\n",
    "            print(f\"    Dtype: {data.dtype}\")\n",
    "\n",
    "\n"
   ],
   "id": "d3001d903feb4586"
  },
  {
   "metadata": {},
   "cell_type": "code",
   "outputs": [],
   "execution_count": null,
   "source": "",
   "id": "7746a1bfacb83a3d"
  }
 ],
 "metadata": {},
 "nbformat": 5,
 "nbformat_minor": 9
}
